{
  "nbformat": 4,
  "nbformat_minor": 0,
  "metadata": {
    "colab": {
      "provenance": [],
      "toc_visible": true,
      "machine_shape": "hm",
      "authorship_tag": "ABX9TyNodR4kt3U1TkD9vDTW8CUQ",
      "include_colab_link": true
    },
    "kernelspec": {
      "name": "python3",
      "display_name": "Python 3"
    },
    "language_info": {
      "name": "python"
    }
  },
  "cells": [
    {
      "cell_type": "markdown",
      "metadata": {
        "id": "view-in-github",
        "colab_type": "text"
      },
      "source": [
        "<a href=\"https://colab.research.google.com/github/Cesare-Caputo/RL-stuff/blob/main/mazelab_gifs.ipynb\" target=\"_parent\"><img src=\"https://colab.research.google.com/assets/colab-badge.svg\" alt=\"Open In Colab\"/></a>"
      ]
    },
    {
      "cell_type": "markdown",
      "source": [
        "#mazelab setup one line"
      ],
      "metadata": {
        "id": "mjTU0S8i1A8F"
      }
    },
    {
      "cell_type": "code",
      "source": [
        "### including all in one code cell\n",
        "import gym\n",
        "from gym.spaces import Box\n",
        "from gym.spaces import Discrete\n",
        "\n",
        "from dataclasses import dataclass\n",
        "from dataclasses import field\n",
        "@dataclass\n",
        "class Object:\n",
        "    r\"\"\"Defines an object with some of its properties.\n",
        "\n",
        "    An object can be an obstacle, free space or food etc. It can also have properties like impassable, positions.\n",
        "\n",
        "    \"\"\"\n",
        "    name: str\n",
        "    value: int\n",
        "    rgb: tuple\n",
        "    impassable: bool\n",
        "    positions: list = field(default_factory=list)\n",
        "\n",
        "\n",
        "from abc import ABC\n",
        "from abc import abstractmethod\n",
        "\n",
        "from collections import namedtuple\n",
        "import numpy as np\n",
        "\n",
        "#from .object import Object\n",
        "\n",
        "\n",
        "class BaseMaze(ABC):\n",
        "    def __init__(self, **kwargs):\n",
        "        objects = self.make_objects()\n",
        "        assert all([isinstance(obj, Object) for obj in objects])\n",
        "        self.objects = namedtuple('Objects', map(lambda x: x.name, objects), defaults=objects)()\n",
        "\n",
        "        for key, value in kwargs.items():\n",
        "            setattr(self, key, value)\n",
        "\n",
        "    @property\n",
        "    @abstractmethod\n",
        "    def size(self):\n",
        "        r\"\"\"Returns a pair of (height, width). \"\"\"\n",
        "        pass\n",
        "\n",
        "    @abstractmethod\n",
        "    def make_objects(self):\n",
        "        r\"\"\"Returns a list of defined objects. \"\"\"\n",
        "        pass\n",
        "\n",
        "    def _convert(self, x, name):\n",
        "        for obj in self.objects:\n",
        "            pos = np.asarray(obj.positions)\n",
        "            x[pos[:, 0], pos[:, 1]] = getattr(obj, name, None)\n",
        "        return x\n",
        "\n",
        "    def to_name(self):\n",
        "        x = np.empty(self.size, dtype=object)\n",
        "        return self._convert(x, 'name')\n",
        "\n",
        "    def to_value(self):\n",
        "        x = np.empty(self.size, dtype=int)\n",
        "        return self._convert(x, 'value')\n",
        "\n",
        "    def to_rgb(self):\n",
        "        x = np.empty((*self.size, 3), dtype=np.uint8)\n",
        "        return self._convert(x, 'rgb')\n",
        "\n",
        "    def to_impassable(self):\n",
        "        x = np.empty(self.size, dtype=bool)\n",
        "        return self._convert(x, 'impassable')\n",
        "\n",
        "    def __repr__(self):\n",
        "        return f'{self.__class__.__name__}{self.size}'\n",
        "\n",
        "\n",
        "from collections import namedtuple\n",
        "\n",
        "\n",
        "VonNeumannMotion = namedtuple('VonNeumannMotion',\n",
        "                              ['north', 'south', 'west', 'east'],\n",
        "                              defaults=[[-1, 0], [1, 0], [0, -1], [0, 1]])\n",
        "\n",
        "\n",
        "MooreMotion = namedtuple('MooreMotion',\n",
        "                         ['north', 'south', 'west', 'east',\n",
        "                          'northwest', 'northeast', 'southwest', 'southeast'],\n",
        "                         defaults=[[-1, 0], [1, 0], [0, -1], [0, 1],\n",
        "                                   [-1, -1], [-1, 1], [1, -1], [1, 1]])\n",
        "\n",
        "from abc import ABC\n",
        "from abc import abstractmethod\n",
        "\n",
        "import numpy as np\n",
        "import gym\n",
        "from gym.utils import seeding\n",
        "from PIL import Image\n",
        "\n",
        "\n",
        "class BaseEnv(gym.Env, ABC):\n",
        "    metadata = {'render.modes': ['human', 'rgb_array'],\n",
        "                'video.frames_per_second' : 3}\n",
        "    reward_range = (-float('inf'), float('inf'))\n",
        "\n",
        "    def __init__(self):\n",
        "        self.viewer = None\n",
        "        self.seed()\n",
        "\n",
        "    @abstractmethod\n",
        "    def step(self, action):\n",
        "        pass\n",
        "\n",
        "    def seed(self, seed=None):\n",
        "        self.np_random, seed = seeding.np_random(seed)\n",
        "        return [seed]\n",
        "\n",
        "    @abstractmethod\n",
        "    def reset(self):\n",
        "        pass\n",
        "\n",
        "    @abstractmethod\n",
        "    def get_image(self):\n",
        "        pass\n",
        "\n",
        "    def render(self, mode='human', max_width=500):\n",
        "        img = self.get_image()\n",
        "        img = np.asarray(img).astype(np.uint8)\n",
        "        img_height, img_width = img.shape[:2]\n",
        "        ratio = max_width/img_width\n",
        "        img = Image.fromarray(img).resize([int(ratio*img_width), int(ratio*img_height)])\n",
        "        img = np.asarray(img)\n",
        "        if mode == 'rgb_array':\n",
        "            return img\n",
        "        elif mode == 'human':\n",
        "            from gym.envs.classic_control.rendering import SimpleImageViewer\n",
        "            if self.viewer is None:\n",
        "                self.viewer = SimpleImageViewer()\n",
        "            self.viewer.imshow(img)\n",
        "\n",
        "            return self.viewer.isopen\n",
        "\n",
        "    def close(self):\n",
        "        if self.viewer is not None:\n",
        "            self.viewer.close()\n",
        "            self.viewer = None\n",
        "\n",
        "from dataclasses import dataclass\n",
        "\n",
        "\n",
        "@dataclass\n",
        "# class DeepMindColor:\n",
        "#     obstacle = (160, 160, 160)\n",
        "#     free = (224, 224, 224)\n",
        "#     agent = (51, 153, 255)\n",
        "#     goal = (51, 255, 51)\n",
        "#     button = (102, 0, 204)\n",
        "#     interruption = (255, 0, 255)\n",
        "#     box = (0, 102, 102)\n",
        "#     lava = (255, 0, 0)\n",
        "#     water = (0, 0, 255)\n",
        "\n",
        "## this one is better for smaller maze and david silver style\n",
        "class color:\n",
        "    obstacle = (0, 0, 0)\n",
        "    free = (255, 255, 255)\n",
        "    agent = (255, 51, 51)\n",
        "    goal = (51, 255, 51)\n",
        "    button = (102, 0, 204)\n",
        "    interruption = (255, 0, 255)\n",
        "    box = (0, 102, 102)\n",
        "    lava = (255, 0, 0)\n",
        "    water = (0, 0, 255)\n",
        "\n",
        "\n",
        "import numpy as np\n",
        "\n",
        "\n",
        "def random_maze(width=81, height=51, complexity=.75, density=.75):\n",
        "    r\"\"\"Generate a random maze array.\n",
        "\n",
        "    It only contains two kind of objects, obstacle and free space. The numerical value for obstacle\n",
        "    is ``1`` and for free space is ``0``.\n",
        "\n",
        "    Code from https://en.wikipedia.org/wiki/Maze_generation_algorithm\n",
        "    \"\"\"\n",
        "    # Only odd shapes\n",
        "    shape = ((height // 2) * 2 + 1, (width // 2) * 2 + 1)\n",
        "    # Adjust complexity and density relative to maze size\n",
        "    complexity = int(complexity * (5 * (shape[0] + shape[1])))\n",
        "    density    = int(density * ((shape[0] // 2) * (shape[1] // 2)))\n",
        "    # Build actual maze\n",
        "    Z = np.zeros(shape, dtype=bool)\n",
        "    # Fill borders\n",
        "    Z[0, :] = Z[-1, :] = 1\n",
        "    Z[:, 0] = Z[:, -1] = 1\n",
        "    # Make aisles\n",
        "    for i in range(density):\n",
        "        x, y = np.random.randint(0, shape[1]//2 + 1) * 2, np.random.randint(0, shape[0]//2 + 1) * 2\n",
        "        Z[y, x] = 1\n",
        "        for j in range(complexity):\n",
        "            neighbours = []\n",
        "            if x > 1:             neighbours.append((y, x - 2))\n",
        "            if x < shape[1] - 2:  neighbours.append((y, x + 2))\n",
        "            if y > 1:             neighbours.append((y - 2, x))\n",
        "            if y < shape[0] - 2:  neighbours.append((y + 2, x))\n",
        "            if len(neighbours):\n",
        "                y_,x_ = neighbours[np.random.randint(0, len(neighbours))]\n",
        "                if Z[y_, x_] == 0:\n",
        "                    Z[y_, x_] = 1\n",
        "                    Z[y_ + (y - y_) // 2, x_ + (x - x_) // 2] = 1\n",
        "                    x, y = x_, y_\n",
        "\n",
        "    return Z.astype(int)"
      ],
      "metadata": {
        "id": "DwRBtnczTLXj"
      },
      "execution_count": null,
      "outputs": []
    },
    {
      "cell_type": "markdown",
      "source": [
        "#mazelab setup step by step"
      ],
      "metadata": {
        "id": "_KJAViM2ShH4"
      }
    },
    {
      "cell_type": "code",
      "source": [
        "import gym\n",
        "from gym.spaces import Box\n",
        "from gym.spaces import Discrete"
      ],
      "metadata": {
        "id": "07FqNroLTLSc"
      },
      "execution_count": null,
      "outputs": []
    },
    {
      "cell_type": "code",
      "source": [
        "from dataclasses import dataclass\n",
        "from dataclasses import field\n",
        "@dataclass\n",
        "class Object:\n",
        "    r\"\"\"Defines an object with some of its properties.\n",
        "\n",
        "    An object can be an obstacle, free space or food etc. It can also have properties like impassable, positions.\n",
        "\n",
        "    \"\"\"\n",
        "    name: str\n",
        "    value: int\n",
        "    rgb: tuple\n",
        "    impassable: bool\n",
        "    positions: list = field(default_factory=list)"
      ],
      "metadata": {
        "id": "pIs52Vm1Sjgo"
      },
      "execution_count": null,
      "outputs": []
    },
    {
      "cell_type": "code",
      "source": [
        "from abc import ABC\n",
        "from abc import abstractmethod\n",
        "\n",
        "from collections import namedtuple\n",
        "import numpy as np\n",
        "\n",
        "#from .object import Object\n",
        "\n",
        "\n",
        "class BaseMaze(ABC):\n",
        "    def __init__(self, **kwargs):\n",
        "        objects = self.make_objects()\n",
        "        assert all([isinstance(obj, Object) for obj in objects])\n",
        "        self.objects = namedtuple('Objects', map(lambda x: x.name, objects), defaults=objects)()\n",
        "\n",
        "        for key, value in kwargs.items():\n",
        "            setattr(self, key, value)\n",
        "\n",
        "    @property\n",
        "    @abstractmethod\n",
        "    def size(self):\n",
        "        r\"\"\"Returns a pair of (height, width). \"\"\"\n",
        "        pass\n",
        "\n",
        "    @abstractmethod\n",
        "    def make_objects(self):\n",
        "        r\"\"\"Returns a list of defined objects. \"\"\"\n",
        "        pass\n",
        "\n",
        "    def _convert(self, x, name):\n",
        "        for obj in self.objects:\n",
        "            pos = np.asarray(obj.positions)\n",
        "            x[pos[:, 0], pos[:, 1]] = getattr(obj, name, None)\n",
        "        return x\n",
        "\n",
        "    def to_name(self):\n",
        "        x = np.empty(self.size, dtype=object)\n",
        "        return self._convert(x, 'name')\n",
        "\n",
        "    def to_value(self):\n",
        "        x = np.empty(self.size, dtype=int)\n",
        "        return self._convert(x, 'value')\n",
        "\n",
        "    def to_rgb(self):\n",
        "        x = np.empty((*self.size, 3), dtype=np.uint8)\n",
        "        return self._convert(x, 'rgb')\n",
        "\n",
        "    def to_impassable(self):\n",
        "        x = np.empty(self.size, dtype=bool)\n",
        "        return self._convert(x, 'impassable')\n",
        "\n",
        "    def __repr__(self):\n",
        "        return f'{self.__class__.__name__}{self.size}'\n",
        "\n",
        "\n",
        "import numpy as np\n",
        "\n",
        "from scipy.sparse import csr_matrix\n",
        "from scipy.sparse.csgraph import dijkstra\n",
        "\n",
        "\n",
        "def xy_to_flatten_idx(array, x, y):\n",
        "    M, N = array.shape\n",
        "    return x*N + y\n",
        "\n",
        "\n",
        "def flatten_idx_to_xy(array, idx):\n",
        "    M, N = array.shape\n",
        "    x = idx//N\n",
        "    y = idx%N\n",
        "    return np.array([x, y])\n",
        "\n",
        "\n",
        "def make_graph(impassable_array, motions):\n",
        "    M, N = impassable_array.shape\n",
        "    free_idx = np.stack(np.where(np.logical_not(impassable_array)), axis=1)\n",
        "    row = []\n",
        "    col = []\n",
        "    for idx in free_idx:\n",
        "        node_idx = xy_to_flatten_idx(impassable_array, idx[0], idx[1])\n",
        "        for motion in motions:\n",
        "            next_idx = [idx[0] + motion[0], idx[1] + motion[1]]\n",
        "            if (next_idx[0] >= 0 and next_idx[0] < M and next_idx[1] >= 0 and next_idx[1] < N) and not impassable_array[next_idx[0], next_idx[1]]:\n",
        "                row.append(node_idx)\n",
        "                col.append(xy_to_flatten_idx(impassable_array, next_idx[0], next_idx[1]))\n",
        "    data = [1]*len(row)\n",
        "    graph = csr_matrix((data, (row, col)), shape=(M*N, M*N))\n",
        "\n",
        "    return graph\n",
        "\n",
        "\n",
        "def get_actions(impassable_array, motions, predecessors, start_idx, goal_idx):\n",
        "    start_idx = xy_to_flatten_idx(impassable_array, *start_idx)\n",
        "    goal_idx = xy_to_flatten_idx(impassable_array, *goal_idx)\n",
        "    actions = []\n",
        "    while goal_idx != start_idx:\n",
        "        if predecessors[goal_idx] == -9999:\n",
        "            return None\n",
        "        action = flatten_idx_to_xy(impassable_array, goal_idx) - flatten_idx_to_xy(impassable_array, predecessors[goal_idx])\n",
        "        for i, motion in enumerate(motions):\n",
        "            if np.allclose(action, motion):\n",
        "                action_idx = i\n",
        "        actions.append(action_idx)\n",
        "        goal_idx = predecessors[goal_idx]\n",
        "    return actions[::-1]\n",
        "\n",
        "\n",
        "def dijkstra_solver(impassable_array, motions, start_idx, goal_idx):\n",
        "    impassable_array = np.asarray(impassable_array)\n",
        "    assert impassable_array.dtype == np.bool\n",
        "    assert isinstance(motions, (VonNeumannMotion, MooreMotion))\n",
        "\n",
        "    graph = make_graph(impassable_array, motions)\n",
        "    dist_matrix, predecessors = dijkstra(csgraph=graph, indices=xy_to_flatten_idx(impassable_array, *start_idx), return_predecessors=True)\n",
        "    actions = get_actions(impassable_array, motions, predecessors, start_idx, goal_idx)\n",
        "    return actions"
      ],
      "metadata": {
        "id": "12i_0blBVDD1"
      },
      "execution_count": null,
      "outputs": []
    },
    {
      "cell_type": "markdown",
      "source": [
        "##motion"
      ],
      "metadata": {
        "id": "zPlW4P3oT3UW"
      }
    },
    {
      "cell_type": "code",
      "source": [
        "from collections import namedtuple\n",
        "\n",
        "\n",
        "VonNeumannMotion = namedtuple('VonNeumannMotion',\n",
        "                              ['north', 'south', 'west', 'east'],\n",
        "                              defaults=[[-1, 0], [1, 0], [0, -1], [0, 1]])\n",
        "\n",
        "\n",
        "MooreMotion = namedtuple('MooreMotion',\n",
        "                         ['north', 'south', 'west', 'east',\n",
        "                          'northwest', 'northeast', 'southwest', 'southeast'],\n",
        "                         defaults=[[-1, 0], [1, 0], [0, -1], [0, 1],\n",
        "                                   [-1, -1], [-1, 1], [1, -1], [1, 1]])"
      ],
      "metadata": {
        "id": "MjIBjkP9T4dy"
      },
      "execution_count": null,
      "outputs": []
    },
    {
      "cell_type": "markdown",
      "source": [
        "##env"
      ],
      "metadata": {
        "id": "kybWH4FCUsAx"
      }
    },
    {
      "cell_type": "code",
      "source": [
        "from abc import ABC\n",
        "from abc import abstractmethod\n",
        "\n",
        "import numpy as np\n",
        "import gym\n",
        "from gym.utils import seeding\n",
        "from PIL import Image\n",
        "\n",
        "\n",
        "class BaseEnv(gym.Env, ABC):\n",
        "    metadata = {'render.modes': ['human', 'rgb_array'],\n",
        "                'video.frames_per_second' : 3}\n",
        "    reward_range = (-float('inf'), float('inf'))\n",
        "\n",
        "    def __init__(self):\n",
        "        self.viewer = None\n",
        "        self.seed()\n",
        "\n",
        "    @abstractmethod\n",
        "    def step(self, action):\n",
        "        pass\n",
        "\n",
        "    def seed(self, seed=None):\n",
        "        self.np_random, seed = seeding.np_random(seed)\n",
        "        return [seed]\n",
        "\n",
        "    @abstractmethod\n",
        "    def reset(self):\n",
        "        pass\n",
        "\n",
        "    @abstractmethod\n",
        "    def get_image(self):\n",
        "        pass\n",
        "\n",
        "    def render(self, mode='human', max_width=500):\n",
        "        img = self.get_image()\n",
        "        img = np.asarray(img).astype(np.uint8)\n",
        "        img_height, img_width = img.shape[:2]\n",
        "        ratio = max_width/img_width\n",
        "        img = Image.fromarray(img).resize([int(ratio*img_width), int(ratio*img_height)])\n",
        "        img = np.asarray(img)\n",
        "        if mode == 'rgb_array':\n",
        "            return img\n",
        "        elif mode == 'human':\n",
        "            from gym.envs.classic_control.rendering import SimpleImageViewer\n",
        "            if self.viewer is None:\n",
        "                self.viewer = SimpleImageViewer()\n",
        "            self.viewer.imshow(img)\n",
        "\n",
        "            return self.viewer.isopen\n",
        "\n",
        "    def close(self):\n",
        "        if self.viewer is not None:\n",
        "            self.viewer.close()\n",
        "            self.viewer = None"
      ],
      "metadata": {
        "id": "8JKrD-L3UtE7"
      },
      "execution_count": null,
      "outputs": []
    },
    {
      "cell_type": "code",
      "source": [],
      "metadata": {
        "id": "QhwlNr2tVtTc"
      },
      "execution_count": null,
      "outputs": []
    },
    {
      "cell_type": "markdown",
      "source": [
        "##color"
      ],
      "metadata": {
        "id": "t1mCnbw0U1_q"
      }
    },
    {
      "cell_type": "code",
      "source": [
        "from dataclasses import dataclass\n",
        "\n",
        "\n",
        "@dataclass\n",
        "# class DeepMindColor:\n",
        "#     obstacle = (160, 160, 160)\n",
        "#     free = (224, 224, 224)\n",
        "#     agent = (51, 153, 255)\n",
        "#     goal = (51, 255, 51)\n",
        "#     button = (102, 0, 204)\n",
        "#     interruption = (255, 0, 255)\n",
        "#     box = (0, 102, 102)\n",
        "#     lava = (255, 0, 0)\n",
        "#     water = (0, 0, 255)\n",
        "\n",
        "## this one is better for smaller maze and david silver style\n",
        "class color:\n",
        "    obstacle = (0, 0, 0)\n",
        "    free = (255, 255, 255)\n",
        "    agent = (255, 51, 51)\n",
        "    goal = (51, 255, 51)\n",
        "    button = (102, 0, 204)\n",
        "    interruption = (255, 0, 255)\n",
        "    box = (0, 102, 102)\n",
        "    lava = (255, 0, 0)\n",
        "    water = (0, 0, 255)"
      ],
      "metadata": {
        "id": "A4yi_5SIU3Kb"
      },
      "execution_count": null,
      "outputs": []
    },
    {
      "cell_type": "markdown",
      "source": [
        "##generator"
      ],
      "metadata": {
        "id": "cEcVePphU_zY"
      }
    },
    {
      "cell_type": "code",
      "execution_count": null,
      "metadata": {
        "id": "dOfoSJbtQSi3"
      },
      "outputs": [],
      "source": [
        "import numpy as np\n",
        "\n",
        "\n",
        "def random_maze(width=81, height=51, complexity=.75, density=.75):\n",
        "    r\"\"\"Generate a random maze array.\n",
        "\n",
        "    It only contains two kind of objects, obstacle and free space. The numerical value for obstacle\n",
        "    is ``1`` and for free space is ``0``.\n",
        "\n",
        "    Code from https://en.wikipedia.org/wiki/Maze_generation_algorithm\n",
        "    \"\"\"\n",
        "    # Only odd shapes\n",
        "    shape = ((height // 2) * 2 + 1, (width // 2) * 2 + 1)\n",
        "    # Adjust complexity and density relative to maze size\n",
        "    complexity = int(complexity * (5 * (shape[0] + shape[1])))\n",
        "    density    = int(density * ((shape[0] // 2) * (shape[1] // 2)))\n",
        "    # Build actual maze\n",
        "    Z = np.zeros(shape, dtype=bool)\n",
        "    # Fill borders\n",
        "    Z[0, :] = Z[-1, :] = 1\n",
        "    Z[:, 0] = Z[:, -1] = 1\n",
        "    # Make aisles\n",
        "    for i in range(density):\n",
        "        x, y = np.random.randint(0, shape[1]//2 + 1) * 2, np.random.randint(0, shape[0]//2 + 1) * 2\n",
        "        Z[y, x] = 1\n",
        "        for j in range(complexity):\n",
        "            neighbours = []\n",
        "            if x > 1:             neighbours.append((y, x - 2))\n",
        "            if x < shape[1] - 2:  neighbours.append((y, x + 2))\n",
        "            if y > 1:             neighbours.append((y - 2, x))\n",
        "            if y < shape[0] - 2:  neighbours.append((y + 2, x))\n",
        "            if len(neighbours):\n",
        "                y_,x_ = neighbours[np.random.randint(0, len(neighbours))]\n",
        "                if Z[y_, x_] == 0:\n",
        "                    Z[y_, x_] = 1\n",
        "                    Z[y_ + (y - y_) // 2, x_ + (x - x_) // 2] = 1\n",
        "                    x, y = x_, y_\n",
        "\n",
        "    return Z.astype(int)"
      ]
    },
    {
      "cell_type": "markdown",
      "source": [
        "##solver"
      ],
      "metadata": {
        "id": "GfW8S_--VSvs"
      }
    },
    {
      "cell_type": "code",
      "source": [
        "import numpy as np\n",
        "\n",
        "from scipy.sparse import csr_matrix\n",
        "from scipy.sparse.csgraph import dijkstra\n",
        "\n",
        "\n",
        "def xy_to_flatten_idx(array, x, y):\n",
        "    M, N = array.shape\n",
        "    return x*N + y\n",
        "\n",
        "\n",
        "def flatten_idx_to_xy(array, idx):\n",
        "    M, N = array.shape\n",
        "    x = idx//N\n",
        "    y = idx%N\n",
        "    return np.array([x, y])\n",
        "\n",
        "\n",
        "def make_graph(impassable_array, motions):\n",
        "    M, N = impassable_array.shape\n",
        "    free_idx = np.stack(np.where(np.logical_not(impassable_array)), axis=1)\n",
        "    row = []\n",
        "    col = []\n",
        "    for idx in free_idx:\n",
        "        node_idx = xy_to_flatten_idx(impassable_array, idx[0], idx[1])\n",
        "        for motion in motions:\n",
        "            next_idx = [idx[0] + motion[0], idx[1] + motion[1]]\n",
        "            if (next_idx[0] >= 0 and next_idx[0] < M and next_idx[1] >= 0 and next_idx[1] < N) and not impassable_array[next_idx[0], next_idx[1]]:\n",
        "                row.append(node_idx)\n",
        "                col.append(xy_to_flatten_idx(impassable_array, next_idx[0], next_idx[1]))\n",
        "    data = [1]*len(row)\n",
        "    graph = csr_matrix((data, (row, col)), shape=(M*N, M*N))\n",
        "\n",
        "    return graph\n",
        "\n",
        "\n",
        "def get_actions(impassable_array, motions, predecessors, start_idx, goal_idx):\n",
        "    start_idx = xy_to_flatten_idx(impassable_array, *start_idx)\n",
        "    goal_idx = xy_to_flatten_idx(impassable_array, *goal_idx)\n",
        "    actions = []\n",
        "    while goal_idx != start_idx:\n",
        "        if predecessors[goal_idx] == -9999:\n",
        "            return None\n",
        "        action = flatten_idx_to_xy(impassable_array, goal_idx) - flatten_idx_to_xy(impassable_array, predecessors[goal_idx])\n",
        "        for i, motion in enumerate(motions):\n",
        "            if np.allclose(action, motion):\n",
        "                action_idx = i\n",
        "        actions.append(action_idx)\n",
        "        goal_idx = predecessors[goal_idx]\n",
        "    return actions[::-1]\n",
        "\n",
        "\n",
        "def dijkstra_solver(impassable_array, motions, start_idx, goal_idx):\n",
        "    impassable_array = np.asarray(impassable_array)\n",
        "    assert impassable_array.dtype == np.bool\n",
        "    assert isinstance(motions, (VonNeumannMotion, MooreMotion))\n",
        "\n",
        "    graph = make_graph(impassable_array, motions)\n",
        "    dist_matrix, predecessors = dijkstra(csgraph=graph, indices=xy_to_flatten_idx(impassable_array, *start_idx), return_predecessors=True)\n",
        "    actions = get_actions(impassable_array, motions, predecessors, start_idx, goal_idx)\n",
        "    return actions"
      ],
      "metadata": {
        "id": "z8d-txhOVT0W"
      },
      "execution_count": null,
      "outputs": []
    },
    {
      "cell_type": "markdown",
      "source": [
        "#Maze Class"
      ],
      "metadata": {
        "id": "d_HXNbKvVe-2"
      }
    },
    {
      "cell_type": "code",
      "source": [
        "class Maze(BaseMaze):\n",
        "    @property\n",
        "    def size(self):\n",
        "        return x.shape\n",
        "\n",
        "    def make_objects(self):\n",
        "        free = Object('free', 0, color.free, False, np.stack(np.where(x == 0), axis=1))\n",
        "        obstacle = Object('obstacle', 1, color.obstacle, True, np.stack(np.where(x == 1), axis=1))\n",
        "        agent = Object('agent', 2, color.agent, False, [])\n",
        "        goal = Object('goal', 3, color.goal, False, [])\n",
        "        return free, obstacle, agent, goal"
      ],
      "metadata": {
        "id": "_jSUqH52V6DN"
      },
      "execution_count": null,
      "outputs": []
    },
    {
      "cell_type": "code",
      "source": [
        "class Env(BaseEnv):\n",
        "    def __init__(self):\n",
        "        super().__init__()\n",
        "\n",
        "        self.maze = Maze()\n",
        "        self.motions = VonNeumannMotion()\n",
        "\n",
        "        self.observation_space = Box(low=0, high=len(self.maze.objects), shape=self.maze.size, dtype=np.uint8)\n",
        "        self.action_space = Discrete(len(self.motions))\n",
        "\n",
        "    def step(self, action):\n",
        "        motion = self.motions[action]\n",
        "        current_position = self.maze.objects.agent.positions[0]\n",
        "        new_position = [current_position[0] + motion[0], current_position[1] + motion[1]]\n",
        "        valid = self._is_valid(new_position)\n",
        "        if valid:\n",
        "            self.maze.objects.agent.positions = [new_position]\n",
        "\n",
        "        if self._is_goal(new_position):\n",
        "            reward = +1\n",
        "            done = True\n",
        "        elif not valid:\n",
        "            reward = -1\n",
        "            done = False\n",
        "        else:\n",
        "            reward = -0.01\n",
        "            done = False\n",
        "        return self.maze.to_value(), reward, done, {}\n",
        "\n",
        "    def reset(self):\n",
        "        self.maze.objects.agent.positions = start_idx\n",
        "        self.maze.objects.goal.positions = goal_idx\n",
        "        return self.maze.to_value()\n",
        "\n",
        "    def _is_valid(self, position):\n",
        "        nonnegative = position[0] >= 0 and position[1] >= 0\n",
        "        within_edge = position[0] < self.maze.size[0] and position[1] < self.maze.size[1]\n",
        "        passable = not self.maze.to_impassable()[position[0]][position[1]]\n",
        "        return nonnegative and within_edge and passable\n",
        "\n",
        "    def _is_goal(self, position):\n",
        "        out = False\n",
        "        for pos in self.maze.objects.goal.positions:\n",
        "            if position[0] == pos[0] and position[1] == pos[1]:\n",
        "                out = True\n",
        "                break\n",
        "        return out\n",
        "\n",
        "    def get_image(self):\n",
        "        return self.maze.to_rgb()"
      ],
      "metadata": {
        "id": "kuz4RlT3V3x2"
      },
      "execution_count": null,
      "outputs": []
    },
    {
      "cell_type": "markdown",
      "source": [
        "#easy"
      ],
      "metadata": {
        "id": "Viu_N4vNcAED"
      }
    },
    {
      "cell_type": "code",
      "source": [
        "\n",
        "x = np.load(\"stupid-maze.npy\")\n",
        "print(x)"
      ],
      "metadata": {
        "id": "DEIy8OTkrTxm",
        "colab": {
          "base_uri": "https://localhost:8080/"
        },
        "outputId": "65f950c2-7e50-4895-8bee-60269318ef6c"
      },
      "execution_count": null,
      "outputs": [
        {
          "output_type": "stream",
          "name": "stdout",
          "text": [
            "[[1 1 1 ... 1 1 1]\n",
            " [1 0 0 ... 0 0 1]\n",
            " [1 0 0 ... 0 0 1]\n",
            " ...\n",
            " [1 0 0 ... 0 0 1]\n",
            " [1 0 0 ... 0 0 1]\n",
            " [1 1 1 ... 1 1 1]]\n"
          ]
        }
      ]
    },
    {
      "cell_type": "code",
      "source": [
        "import matplotlib.pyplot as plt\n",
        "#x = random_maze(width=50, height=50, complexity=.03, density=.05)\n",
        "#print(x)\n",
        "\n",
        "start_idx = [[4, 1]]\n",
        "goal_idx = [[49, 48]]\n",
        "env_id = 'StupidMaze50by50_easy-v0'\n",
        "\n",
        "gym.envs.register(id=env_id, entry_point=Env, max_episode_steps=500)\n"
      ],
      "metadata": {
        "colab": {
          "base_uri": "https://localhost:8080/"
        },
        "id": "9kqyqNWSVc4e",
        "outputId": "dcf19401-3657-4980-8db4-e4a96c85e1fe"
      },
      "execution_count": null,
      "outputs": [
        {
          "output_type": "stream",
          "name": "stderr",
          "text": [
            "/usr/local/lib/python3.7/dist-packages/gym/envs/registration.py:216: UserWarning: \u001b[33mWARN: Overriding environment StupidMaze50by50_easy-v0\u001b[0m\n",
            "  logger.warn(\"Overriding environment {}\".format(id))\n"
          ]
        }
      ]
    },
    {
      "cell_type": "code",
      "source": [
        "\n",
        "\n",
        "env = gym.make(env_id)\n",
        "\n",
        "\n",
        "obs = env.reset()\n",
        "screen = env.render(mode = 'rgb_array', max_width = 51)\n",
        "plt.imshow(screen)"
      ],
      "metadata": {
        "colab": {
          "base_uri": "https://localhost:8080/",
          "height": 284
        },
        "id": "QEDAHiJNZwnG",
        "outputId": "522bee9d-333e-4b54-a251-4893fc60ef57"
      },
      "execution_count": null,
      "outputs": [
        {
          "output_type": "execute_result",
          "data": {
            "text/plain": [
              "<matplotlib.image.AxesImage at 0x7fceb33f3410>"
            ]
          },
          "metadata": {},
          "execution_count": 82
        },
        {
          "output_type": "display_data",
          "data": {
            "text/plain": [
              "<Figure size 432x288 with 1 Axes>"
            ],
            "image/png": "[encoded data removed]"
          },
          "metadata": {
            "needs_background": "light"
          }
        }
      ]
    },
    {
      "cell_type": "markdown",
      "source": [
        "##solve with djiskstra"
      ],
      "metadata": {
        "id": "oMyY0qAKWXS0"
      }
    },
    {
      "cell_type": "code",
      "source": [
        "from google.colab import files"
      ],
      "metadata": {
        "id": "LBimjy3scwhG"
      },
      "execution_count": null,
      "outputs": []
    },
    {
      "cell_type": "code",
      "source": [
        "impassable_array = env.unwrapped.maze.to_impassable()\n",
        "motions = env.unwrapped.motions\n",
        "start = env.unwrapped.maze.objects.agent.positions[0]\n",
        "goal = env.unwrapped.maze.objects.goal.positions[0]\n",
        "actions = dijkstra_solver(impassable_array, motions, start, goal)\n",
        "print(actions)\n",
        "#env = gym.wrappers.Monitor(env, './', force=True)\n",
        "rewards = 0.0\n",
        "env.reset()\n",
        "for action in actions:\n",
        "    _, reward, _, _ = env.step(action)\n",
        "    rewards += reward\n",
        "env.close()\n",
        "print(rewards)"
      ],
      "metadata": {
        "colab": {
          "base_uri": "https://localhost:8080/"
        },
        "id": "YBUCabrOWWx6",
        "outputId": "b2c01ffb-aaf1-4297-b476-8b0d384b169a"
      },
      "execution_count": null,
      "outputs": [
        {
          "output_type": "stream",
          "name": "stdout",
          "text": [
            "[3, 3, 3, 1, 1, 1, 1, 1, 3, 1, 1, 1, 1, 3, 3, 1, 1, 1, 1, 1, 1, 1, 1, 3, 3, 3, 1, 3, 1, 3, 3, 1, 1, 1, 3, 3, 1, 1, 3, 3, 3, 1, 3, 3, 3, 1, 1, 3, 1, 3, 3, 3, 3, 3, 1, 3, 3, 3, 1, 3, 1, 3, 1, 3, 3, 3, 1, 3, 1, 3, 3, 3, 3, 1, 1, 3, 1, 3, 3, 1, 1, 1, 1, 1, 1, 1, 1, 3, 3, 3, 3, 3]\n",
            "0.08999999999999941\n"
          ]
        },
        {
          "output_type": "stream",
          "name": "stderr",
          "text": [
            "/usr/local/lib/python3.7/dist-packages/ipykernel_launcher.py:55: DeprecationWarning: `np.bool` is a deprecated alias for the builtin `bool`. To silence this warning, use `bool` by itself. Doing this will not modify any behavior and is safe. If you specifically wanted the numpy scalar type, use `np.bool_` here.\n",
            "Deprecated in NumPy 1.20; for more details and guidance: https://numpy.org/devdocs/release/1.20.0-notes.html#deprecations\n"
          ]
        }
      ]
    },
    {
      "cell_type": "code",
      "source": [],
      "metadata": {
        "id": "vdIu3A0NXqYr"
      },
      "execution_count": null,
      "outputs": []
    },
    {
      "cell_type": "code",
      "source": [
        "images = []\n",
        "obs = env.reset()\n",
        "#img = model.env.render(mode='rgb_array')\n",
        "for action in actions:\n",
        "    #images.append(img)\n",
        "    #action, _ = model.predict(obs)\n",
        "    obs, _, done,_ = env.step(action)\n",
        "    img = env.render(mode='rgb_array', max_width = 51)\n",
        "    images.append(img)"
      ],
      "metadata": {
        "id": "AUe-8PGUXccN"
      },
      "execution_count": null,
      "outputs": []
    },
    {
      "cell_type": "code",
      "source": [
        "for i in range(len(images)):\n",
        "  img = images[i]\n",
        "  a = plt.imshow(img)\n",
        "  a.figure.savefig(str(i) + \"rl_course_easy_maze_best.png\")"
      ],
      "metadata": {
        "colab": {
          "base_uri": "https://localhost:8080/",
          "height": 267
        },
        "id": "_GgFM3vidR5R",
        "outputId": "4ff95201-7865-4587-8b04-be8516c25d59"
      },
      "execution_count": null,
      "outputs": [
        {
          "output_type": "display_data",
          "data": {
            "text/plain": [
              "<Figure size 432x288 with 1 Axes>"
            ],
            "image/png": "[encoded data removed]"
          },
          "metadata": {
            "needs_background": "light"
          }
        }
      ]
    },
    {
      "cell_type": "code",
      "source": [
        "years = list(range(len(images)))\n",
        "imagesg = list()\n",
        "for y in years:\n",
        "    imagesg.append(imageio.imread(str(y) + \"rl_course_easy_maze_best.png\"))\n",
        "imageio.mimsave(\"easy_maze_evolution_best.gif\", imagesg,fps = 15)\n",
        "files.download(\"easy_maze_evolution_best.gif\")"
      ],
      "metadata": {
        "colab": {
          "base_uri": "https://localhost:8080/",
          "height": 17
        },
        "id": "kXLh-cM_d6yH",
        "outputId": "9e2e38f3-c779-4ad9-87bb-3492bd95ea09"
      },
      "execution_count": null,
      "outputs": [
        {
          "output_type": "display_data",
          "data": {
            "text/plain": [
              "<IPython.core.display.Javascript object>"
            ],
            "application/javascript": [
              "\n",
              "    async function download(id, filename, size) {\n",
              "      if (!google.colab.kernel.accessAllowed) {\n",
              "        return;\n",
              "      }\n",
              "      const div = document.createElement('div');\n",
              "      const label = document.createElement('label');\n",
              "      label.textContent = `Downloading \"${filename}\": `;\n",
              "      div.appendChild(label);\n",
              "      const progress = document.createElement('progress');\n",
              "      progress.max = size;\n",
              "      div.appendChild(progress);\n",
              "      document.body.appendChild(div);\n",
              "\n",
              "      const buffers = [];\n",
              "      let downloaded = 0;\n",
              "\n",
              "      const channel = await google.colab.kernel.comms.open(id);\n",
              "      // Send a message to notify the kernel that we're ready.\n",
              "      channel.send({})\n",
              "\n",
              "      for await (const message of channel.messages) {\n",
              "        // Send a message to notify the kernel that we're ready.\n",
              "        channel.send({})\n",
              "        if (message.buffers) {\n",
              "          for (const buffer of message.buffers) {\n",
              "            buffers.push(buffer);\n",
              "            downloaded += buffer.byteLength;\n",
              "            progress.value = downloaded;\n",
              "          }\n",
              "        }\n",
              "      }\n",
              "      const blob = new Blob(buffers, {type: 'application/binary'});\n",
              "      const a = document.createElement('a');\n",
              "      a.href = window.URL.createObjectURL(blob);\n",
              "      a.download = filename;\n",
              "      div.appendChild(a);\n",
              "      a.click();\n",
              "      div.remove();\n",
              "    }\n",
              "  "
            ]
          },
          "metadata": {}
        },
        {
          "output_type": "display_data",
          "data": {
            "text/plain": [
              "<IPython.core.display.Javascript object>"
            ],
            "application/javascript": [
              "download(\"download_444e90dc-3979-43ae-8e92-8dc8e1dc54fb\", \"easy_maze_evolution_best.gif\", 1792674)"
            ]
          },
          "metadata": {}
        }
      ]
    },
    {
      "cell_type": "code",
      "source": [
        "len(images)"
      ],
      "metadata": {
        "colab": {
          "base_uri": "https://localhost:8080/"
        },
        "id": "NkU_MoMBbNUo",
        "outputId": "74eab2ce-c105-416c-f465-e3955aa5355b"
      },
      "execution_count": null,
      "outputs": [
        {
          "output_type": "execute_result",
          "data": {
            "text/plain": [
              "92"
            ]
          },
          "metadata": {},
          "execution_count": 19
        }
      ]
    },
    {
      "cell_type": "code",
      "source": [
        "from google.colab import files"
      ],
      "metadata": {
        "id": "e40-KeJuakrx"
      },
      "execution_count": null,
      "outputs": []
    },
    {
      "cell_type": "code",
      "source": [
        "import imageio\n",
        "imageio.mimsave('maze2d_50by50_v1.gif', [np.array(img) for i, img in enumerate(images) if i%2 == 0], fps=10, )\n",
        "files.download(\"maze2d_50by50_v1.gif\")"
      ],
      "metadata": {
        "colab": {
          "base_uri": "https://localhost:8080/",
          "height": 17
        },
        "id": "eWxQ7R-OaXLf",
        "outputId": "7c4b1b14-fe89-4467-89ba-eb5b69d6a4d6"
      },
      "execution_count": null,
      "outputs": [
        {
          "output_type": "display_data",
          "data": {
            "text/plain": [
              "<IPython.core.display.Javascript object>"
            ],
            "application/javascript": [
              "\n",
              "    async function download(id, filename, size) {\n",
              "      if (!google.colab.kernel.accessAllowed) {\n",
              "        return;\n",
              "      }\n",
              "      const div = document.createElement('div');\n",
              "      const label = document.createElement('label');\n",
              "      label.textContent = `Downloading \"${filename}\": `;\n",
              "      div.appendChild(label);\n",
              "      const progress = document.createElement('progress');\n",
              "      progress.max = size;\n",
              "      div.appendChild(progress);\n",
              "      document.body.appendChild(div);\n",
              "\n",
              "      const buffers = [];\n",
              "      let downloaded = 0;\n",
              "\n",
              "      const channel = await google.colab.kernel.comms.open(id);\n",
              "      // Send a message to notify the kernel that we're ready.\n",
              "      channel.send({})\n",
              "\n",
              "      for await (const message of channel.messages) {\n",
              "        // Send a message to notify the kernel that we're ready.\n",
              "        channel.send({})\n",
              "        if (message.buffers) {\n",
              "          for (const buffer of message.buffers) {\n",
              "            buffers.push(buffer);\n",
              "            downloaded += buffer.byteLength;\n",
              "            progress.value = downloaded;\n",
              "          }\n",
              "        }\n",
              "      }\n",
              "      const blob = new Blob(buffers, {type: 'application/binary'});\n",
              "      const a = document.createElement('a');\n",
              "      a.href = window.URL.createObjectURL(blob);\n",
              "      a.download = filename;\n",
              "      div.appendChild(a);\n",
              "      a.click();\n",
              "      div.remove();\n",
              "    }\n",
              "  "
            ]
          },
          "metadata": {}
        },
        {
          "output_type": "display_data",
          "data": {
            "text/plain": [
              "<IPython.core.display.Javascript object>"
            ],
            "application/javascript": [
              "download(\"download_53fc25ed-a86c-4ba0-b36e-d6874c2bca5d\", \"maze2d_50by50_v1.gif\", 70280)"
            ]
          },
          "metadata": {}
        }
      ]
    },
    {
      "cell_type": "markdown",
      "source": [
        "## RL BASIC"
      ],
      "metadata": {
        "id": "m8oSikSXgfLX"
      }
    },
    {
      "cell_type": "code",
      "source": [
        "import imageio\n",
        "from google.colab import files"
      ],
      "metadata": {
        "id": "Gn6jIZ65YQjx"
      },
      "execution_count": null,
      "outputs": []
    },
    {
      "cell_type": "code",
      "source": [
        "!apt install swig\n",
        "!pip install stable-baselines3[extra]"
      ],
      "metadata": {
        "id": "5TjlAxX2jfP3"
      },
      "execution_count": null,
      "outputs": []
    },
    {
      "cell_type": "code",
      "source": [
        "from stable_baselines3 import A2C, SAC, PPO, TD3, DQN"
      ],
      "metadata": {
        "id": "ygHbPpFMjmPs"
      },
      "execution_count": null,
      "outputs": []
    },
    {
      "cell_type": "code",
      "source": [
        "# Train the agent\n",
        "model1 = A2C('MlpPolicy', env, verbose=1).learn(10000)"
      ],
      "metadata": {
        "id": "lS1RahnXkXUu",
        "colab": {
          "base_uri": "https://localhost:8080/"
        },
        "outputId": "70ae3f0d-ce8f-4dbd-8162-e5f43956b6e2"
      },
      "execution_count": null,
      "outputs": [
        {
          "output_type": "stream",
          "name": "stdout",
          "text": [
            "Using cpu device\n",
            "Wrapping the env with a `Monitor` wrapper\n",
            "Wrapping the env in a DummyVecEnv.\n",
            "-------------------------------------\n",
            "| rollout/              |           |\n",
            "|    ep_len_mean        | 500       |\n",
            "|    ep_rew_mean        | -151      |\n",
            "| time/                 |           |\n",
            "|    fps                | 414       |\n",
            "|    iterations         | 100       |\n",
            "|    time_elapsed       | 1         |\n",
            "|    total_timesteps    | 500       |\n",
            "| train/                |           |\n",
            "|    entropy_loss       | -0.889    |\n",
            "|    explained_variance | -0.000204 |\n",
            "|    learning_rate      | 0.0007    |\n",
            "|    n_updates          | 99        |\n",
            "|    policy_loss        | -3.73     |\n",
            "|    value_loss         | 7.37      |\n",
            "-------------------------------------\n",
            "------------------------------------\n",
            "| rollout/              |          |\n",
            "|    ep_len_mean        | 500      |\n",
            "|    ep_rew_mean        | -87.2    |\n",
            "| time/                 |          |\n",
            "|    fps                | 430      |\n",
            "|    iterations         | 200      |\n",
            "|    time_elapsed       | 2        |\n",
            "|    total_timesteps    | 1000     |\n",
            "| train/                |          |\n",
            "|    entropy_loss       | -0.902   |\n",
            "|    explained_variance | 0.0316   |\n",
            "|    learning_rate      | 0.0007   |\n",
            "|    n_updates          | 199      |\n",
            "|    policy_loss        | 0.00618  |\n",
            "|    value_loss         | 0.000106 |\n",
            "------------------------------------\n",
            "------------------------------------\n",
            "| rollout/              |          |\n",
            "|    ep_len_mean        | 500      |\n",
            "|    ep_rew_mean        | -65.4    |\n",
            "| time/                 |          |\n",
            "|    fps                | 437      |\n",
            "|    iterations         | 300      |\n",
            "|    time_elapsed       | 3        |\n",
            "|    total_timesteps    | 1500     |\n",
            "| train/                |          |\n",
            "|    entropy_loss       | -0.936   |\n",
            "|    explained_variance | -0.265   |\n",
            "|    learning_rate      | 0.0007   |\n",
            "|    n_updates          | 299      |\n",
            "|    policy_loss        | 0.0034   |\n",
            "|    value_loss         | 1.94e-05 |\n",
            "------------------------------------\n",
            "------------------------------------\n",
            "| rollout/              |          |\n",
            "|    ep_len_mean        | 500      |\n",
            "|    ep_rew_mean        | -59      |\n",
            "| time/                 |          |\n",
            "|    fps                | 442      |\n",
            "|    iterations         | 400      |\n",
            "|    time_elapsed       | 4        |\n",
            "|    total_timesteps    | 2000     |\n",
            "| train/                |          |\n",
            "|    entropy_loss       | -0.896   |\n",
            "|    explained_variance | -0.00627 |\n",
            "|    learning_rate      | 0.0007   |\n",
            "|    n_updates          | 399      |\n",
            "|    policy_loss        | 0.0174   |\n",
            "|    value_loss         | 0.000233 |\n",
            "------------------------------------\n",
            "------------------------------------\n",
            "| rollout/              |          |\n",
            "|    ep_len_mean        | 500      |\n",
            "|    ep_rew_mean        | -50.7    |\n",
            "| time/                 |          |\n",
            "|    fps                | 443      |\n",
            "|    iterations         | 500      |\n",
            "|    time_elapsed       | 5        |\n",
            "|    total_timesteps    | 2500     |\n",
            "| train/                |          |\n",
            "|    entropy_loss       | -0.767   |\n",
            "|    explained_variance | -0.00179 |\n",
            "|    learning_rate      | 0.0007   |\n",
            "|    n_updates          | 499      |\n",
            "|    policy_loss        | 0.00677  |\n",
            "|    value_loss         | 0.000128 |\n",
            "------------------------------------\n",
            "------------------------------------\n",
            "| rollout/              |          |\n",
            "|    ep_len_mean        | 500      |\n",
            "|    ep_rew_mean        | -46.4    |\n",
            "| time/                 |          |\n",
            "|    fps                | 446      |\n",
            "|    iterations         | 600      |\n",
            "|    time_elapsed       | 6        |\n",
            "|    total_timesteps    | 3000     |\n",
            "| train/                |          |\n",
            "|    entropy_loss       | -0.804   |\n",
            "|    explained_variance | 0.11     |\n",
            "|    learning_rate      | 0.0007   |\n",
            "|    n_updates          | 599      |\n",
            "|    policy_loss        | 0.000532 |\n",
            "|    value_loss         | 5.78e-07 |\n",
            "------------------------------------\n",
            "------------------------------------\n",
            "| rollout/              |          |\n",
            "|    ep_len_mean        | 500      |\n",
            "|    ep_rew_mean        | -45.3    |\n",
            "| time/                 |          |\n",
            "|    fps                | 448      |\n",
            "|    iterations         | 700      |\n",
            "|    time_elapsed       | 7        |\n",
            "|    total_timesteps    | 3500     |\n",
            "| train/                |          |\n",
            "|    entropy_loss       | -0.776   |\n",
            "|    explained_variance | 0.0259   |\n",
            "|    learning_rate      | 0.0007   |\n",
            "|    n_updates          | 699      |\n",
            "|    policy_loss        | 0.0761   |\n",
            "|    value_loss         | 0.0104   |\n",
            "------------------------------------\n",
            "------------------------------------\n",
            "| rollout/              |          |\n",
            "|    ep_len_mean        | 500      |\n",
            "|    ep_rew_mean        | -43.9    |\n",
            "| time/                 |          |\n",
            "|    fps                | 449      |\n",
            "|    iterations         | 800      |\n",
            "|    time_elapsed       | 8        |\n",
            "|    total_timesteps    | 4000     |\n",
            "| train/                |          |\n",
            "|    entropy_loss       | -0.792   |\n",
            "|    explained_variance | -44.9    |\n",
            "|    learning_rate      | 0.0007   |\n",
            "|    n_updates          | 799      |\n",
            "|    policy_loss        | 0.000435 |\n",
            "|    value_loss         | 4e-07    |\n",
            "------------------------------------\n",
            "------------------------------------\n",
            "| rollout/              |          |\n",
            "|    ep_len_mean        | 500      |\n",
            "|    ep_rew_mean        | -42.2    |\n",
            "| time/                 |          |\n",
            "|    fps                | 450      |\n",
            "|    iterations         | 900      |\n",
            "|    time_elapsed       | 9        |\n",
            "|    total_timesteps    | 4500     |\n",
            "| train/                |          |\n",
            "|    entropy_loss       | -0.736   |\n",
            "|    explained_variance | 0.000251 |\n",
            "|    learning_rate      | 0.0007   |\n",
            "|    n_updates          | 899      |\n",
            "|    policy_loss        | -1.02    |\n",
            "|    value_loss         | 3.21     |\n",
            "------------------------------------\n",
            "------------------------------------\n",
            "| rollout/              |          |\n",
            "|    ep_len_mean        | 500      |\n",
            "|    ep_rew_mean        | -41.8    |\n",
            "| time/                 |          |\n",
            "|    fps                | 450      |\n",
            "|    iterations         | 1000     |\n",
            "|    time_elapsed       | 11       |\n",
            "|    total_timesteps    | 5000     |\n",
            "| train/                |          |\n",
            "|    entropy_loss       | -0.792   |\n",
            "|    explained_variance | -0.15    |\n",
            "|    learning_rate      | 0.0007   |\n",
            "|    n_updates          | 999      |\n",
            "|    policy_loss        | 0.000551 |\n",
            "|    value_loss         | 6.93e-07 |\n",
            "------------------------------------\n",
            "-------------------------------------\n",
            "| rollout/              |           |\n",
            "|    ep_len_mean        | 500       |\n",
            "|    ep_rew_mean        | -41.6     |\n",
            "| time/                 |           |\n",
            "|    fps                | 451       |\n",
            "|    iterations         | 1100      |\n",
            "|    time_elapsed       | 12        |\n",
            "|    total_timesteps    | 5500      |\n",
            "| train/                |           |\n",
            "|    entropy_loss       | -0.779    |\n",
            "|    explained_variance | -0.000187 |\n",
            "|    learning_rate      | 0.0007    |\n",
            "|    n_updates          | 1099      |\n",
            "|    policy_loss        | 0.00853   |\n",
            "|    value_loss         | 0.000156  |\n",
            "-------------------------------------\n",
            "------------------------------------\n",
            "| rollout/              |          |\n",
            "|    ep_len_mean        | 500      |\n",
            "|    ep_rew_mean        | -43.9    |\n",
            "| time/                 |          |\n",
            "|    fps                | 451      |\n",
            "|    iterations         | 1200     |\n",
            "|    time_elapsed       | 13       |\n",
            "|    total_timesteps    | 6000     |\n",
            "| train/                |          |\n",
            "|    entropy_loss       | -0.897   |\n",
            "|    explained_variance | -0.0014  |\n",
            "|    learning_rate      | 0.0007   |\n",
            "|    n_updates          | 1199     |\n",
            "|    policy_loss        | 0.0241   |\n",
            "|    value_loss         | 0.00122  |\n",
            "------------------------------------\n",
            "------------------------------------\n",
            "| rollout/              |          |\n",
            "|    ep_len_mean        | 500      |\n",
            "|    ep_rew_mean        | -42.7    |\n",
            "| time/                 |          |\n",
            "|    fps                | 452      |\n",
            "|    iterations         | 1300     |\n",
            "|    time_elapsed       | 14       |\n",
            "|    total_timesteps    | 6500     |\n",
            "| train/                |          |\n",
            "|    entropy_loss       | -0.742   |\n",
            "|    explained_variance | -0.0322  |\n",
            "|    learning_rate      | 0.0007   |\n",
            "|    n_updates          | 1299     |\n",
            "|    policy_loss        | 0.00322  |\n",
            "|    value_loss         | 2.93e-05 |\n",
            "------------------------------------\n",
            "------------------------------------\n",
            "| rollout/              |          |\n",
            "|    ep_len_mean        | 500      |\n",
            "|    ep_rew_mean        | -41.4    |\n",
            "| time/                 |          |\n",
            "|    fps                | 452      |\n",
            "|    iterations         | 1400     |\n",
            "|    time_elapsed       | 15       |\n",
            "|    total_timesteps    | 7000     |\n",
            "| train/                |          |\n",
            "|    entropy_loss       | -0.749   |\n",
            "|    explained_variance | -0.00388 |\n",
            "|    learning_rate      | 0.0007   |\n",
            "|    n_updates          | 1399     |\n",
            "|    policy_loss        | 0.013    |\n",
            "|    value_loss         | 0.000415 |\n",
            "------------------------------------\n",
            "------------------------------------\n",
            "| rollout/              |          |\n",
            "|    ep_len_mean        | 500      |\n",
            "|    ep_rew_mean        | -46.2    |\n",
            "| time/                 |          |\n",
            "|    fps                | 452      |\n",
            "|    iterations         | 1500     |\n",
            "|    time_elapsed       | 16       |\n",
            "|    total_timesteps    | 7500     |\n",
            "| train/                |          |\n",
            "|    entropy_loss       | -0.673   |\n",
            "|    explained_variance | 0.0172   |\n",
            "|    learning_rate      | 0.0007   |\n",
            "|    n_updates          | 1499     |\n",
            "|    policy_loss        | 0.0847   |\n",
            "|    value_loss         | 0.0599   |\n",
            "------------------------------------\n",
            "------------------------------------\n",
            "| rollout/              |          |\n",
            "|    ep_len_mean        | 500      |\n",
            "|    ep_rew_mean        | -46.4    |\n",
            "| time/                 |          |\n",
            "|    fps                | 452      |\n",
            "|    iterations         | 1600     |\n",
            "|    time_elapsed       | 17       |\n",
            "|    total_timesteps    | 8000     |\n",
            "| train/                |          |\n",
            "|    entropy_loss       | -0.736   |\n",
            "|    explained_variance | -0.00557 |\n",
            "|    learning_rate      | 0.0007   |\n",
            "|    n_updates          | 1599     |\n",
            "|    policy_loss        | 0.00392  |\n",
            "|    value_loss         | 3.83e-05 |\n",
            "------------------------------------\n",
            "------------------------------------\n",
            "| rollout/              |          |\n",
            "|    ep_len_mean        | 500      |\n",
            "|    ep_rew_mean        | -46.9    |\n",
            "| time/                 |          |\n",
            "|    fps                | 453      |\n",
            "|    iterations         | 1700     |\n",
            "|    time_elapsed       | 18       |\n",
            "|    total_timesteps    | 8500     |\n",
            "| train/                |          |\n",
            "|    entropy_loss       | -0.73    |\n",
            "|    explained_variance | -0.0122  |\n",
            "|    learning_rate      | 0.0007   |\n",
            "|    n_updates          | 1699     |\n",
            "|    policy_loss        | 0.00626  |\n",
            "|    value_loss         | 9.35e-05 |\n",
            "------------------------------------\n",
            "------------------------------------\n",
            "| rollout/              |          |\n",
            "|    ep_len_mean        | 500      |\n",
            "|    ep_rew_mean        | -45.2    |\n",
            "| time/                 |          |\n",
            "|    fps                | 453      |\n",
            "|    iterations         | 1800     |\n",
            "|    time_elapsed       | 19       |\n",
            "|    total_timesteps    | 9000     |\n",
            "| train/                |          |\n",
            "|    entropy_loss       | -0.688   |\n",
            "|    explained_variance | -0.0891  |\n",
            "|    learning_rate      | 0.0007   |\n",
            "|    n_updates          | 1799     |\n",
            "|    policy_loss        | 0.000972 |\n",
            "|    value_loss         | 6.01e-06 |\n",
            "------------------------------------\n",
            "------------------------------------\n",
            "| rollout/              |          |\n",
            "|    ep_len_mean        | 500      |\n",
            "|    ep_rew_mean        | -45.6    |\n",
            "| time/                 |          |\n",
            "|    fps                | 453      |\n",
            "|    iterations         | 1900     |\n",
            "|    time_elapsed       | 20       |\n",
            "|    total_timesteps    | 9500     |\n",
            "| train/                |          |\n",
            "|    entropy_loss       | -0.698   |\n",
            "|    explained_variance | -0.0038  |\n",
            "|    learning_rate      | 0.0007   |\n",
            "|    n_updates          | 1899     |\n",
            "|    policy_loss        | 0.0245   |\n",
            "|    value_loss         | 0.00176  |\n",
            "------------------------------------\n",
            "------------------------------------\n",
            "| rollout/              |          |\n",
            "|    ep_len_mean        | 500      |\n",
            "|    ep_rew_mean        | -44.8    |\n",
            "| time/                 |          |\n",
            "|    fps                | 453      |\n",
            "|    iterations         | 2000     |\n",
            "|    time_elapsed       | 22       |\n",
            "|    total_timesteps    | 10000    |\n",
            "| train/                |          |\n",
            "|    entropy_loss       | -0.768   |\n",
            "|    explained_variance | -0.225   |\n",
            "|    learning_rate      | 0.0007   |\n",
            "|    n_updates          | 1999     |\n",
            "|    policy_loss        | 0.000799 |\n",
            "|    value_loss         | 1.84e-06 |\n",
            "------------------------------------\n"
          ]
        }
      ]
    },
    {
      "cell_type": "code",
      "source": [
        "model2 = PPO('MlpPolicy', env, verbose=1).learn(100000)"
      ],
      "metadata": {
        "id": "rZ8eDPR7do3n"
      },
      "execution_count": null,
      "outputs": []
    },
    {
      "cell_type": "code",
      "source": [
        "model3 = DQN('MlpPolicy', env, exploration_fraction = .9,verbose=1).learn(10000)"
      ],
      "metadata": {
        "id": "fle5I-TwZbtX"
      },
      "execution_count": null,
      "outputs": []
    },
    {
      "cell_type": "code",
      "source": [
        "model3.learn(50000)"
      ],
      "metadata": {
        "id": "kCtL0q2U5L-d"
      },
      "execution_count": null,
      "outputs": []
    },
    {
      "cell_type": "code",
      "source": [
        "model1"
      ],
      "metadata": {
        "id": "jcr91kB1NGOU"
      },
      "execution_count": null,
      "outputs": []
    },
    {
      "cell_type": "code",
      "source": [
        "model = model2\n",
        "\n",
        "images = []\n",
        "obs = model.env.reset()\n",
        "img = model.env.render(mode='rgb_array')\n",
        "for i in range(500):\n",
        "    images.append(img)\n",
        "    action, _ = model.predict(obs)\n",
        "    obs, _, done,_ = model.env.step(action)\n",
        "    img = env.render(mode='rgb_array', max_width = 51)"
      ],
      "metadata": {
        "id": "JA3SUL6Qlf0X"
      },
      "execution_count": null,
      "outputs": []
    },
    {
      "cell_type": "code",
      "source": [
        "for i in range(len(images)):\n",
        "  img = images[i]\n",
        "  a = plt.imshow(img)\n",
        "  a.figure.savefig(str(i) + \"rl_course_medium_maze_SS.png\")"
      ],
      "metadata": {
        "id": "I12iC8Tcl84-",
        "colab": {
          "base_uri": "https://localhost:8080/",
          "height": 267
        },
        "outputId": "000bf8a9-55e0-4895-db8e-ddc27568fc99"
      },
      "execution_count": null,
      "outputs": [
        {
          "output_type": "display_data",
          "data": {
            "text/plain": [
              "<Figure size 432x288 with 1 Axes>"
            ],
            "image/png": "[encoded data removed]"
          },
          "metadata": {
            "needs_background": "light"
          }
        }
      ]
    },
    {
      "cell_type": "code",
      "source": [
        "years = list(range(len(images)))\n",
        "imagesg = list()\n",
        "for y in years:\n",
        "    imagesg.append(imageio.imread(str(y) + \"rl_course_medium_maze_PG.png\"))\n",
        "imageio.mimsave(\"medium_maze_evolution_PG.gif\", imagesg,fps = 15)\n",
        "files.download(\"medium_maze_evolution_PG.gif\")"
      ],
      "metadata": {
        "id": "gvDrvYdsmUBs",
        "colab": {
          "base_uri": "https://localhost:8080/",
          "height": 17
        },
        "outputId": "f681b3f3-3132-44cc-8ab6-80958d19bf95"
      },
      "execution_count": null,
      "outputs": [
        {
          "output_type": "display_data",
          "data": {
            "text/plain": [
              "<IPython.core.display.Javascript object>"
            ],
            "application/javascript": [
              "\n",
              "    async function download(id, filename, size) {\n",
              "      if (!google.colab.kernel.accessAllowed) {\n",
              "        return;\n",
              "      }\n",
              "      const div = document.createElement('div');\n",
              "      const label = document.createElement('label');\n",
              "      label.textContent = `Downloading \"${filename}\": `;\n",
              "      div.appendChild(label);\n",
              "      const progress = document.createElement('progress');\n",
              "      progress.max = size;\n",
              "      div.appendChild(progress);\n",
              "      document.body.appendChild(div);\n",
              "\n",
              "      const buffers = [];\n",
              "      let downloaded = 0;\n",
              "\n",
              "      const channel = await google.colab.kernel.comms.open(id);\n",
              "      // Send a message to notify the kernel that we're ready.\n",
              "      channel.send({})\n",
              "\n",
              "      for await (const message of channel.messages) {\n",
              "        // Send a message to notify the kernel that we're ready.\n",
              "        channel.send({})\n",
              "        if (message.buffers) {\n",
              "          for (const buffer of message.buffers) {\n",
              "            buffers.push(buffer);\n",
              "            downloaded += buffer.byteLength;\n",
              "            progress.value = downloaded;\n",
              "          }\n",
              "        }\n",
              "      }\n",
              "      const blob = new Blob(buffers, {type: 'application/binary'});\n",
              "      const a = document.createElement('a');\n",
              "      a.href = window.URL.createObjectURL(blob);\n",
              "      a.download = filename;\n",
              "      div.appendChild(a);\n",
              "      a.click();\n",
              "      div.remove();\n",
              "    }\n",
              "  "
            ]
          },
          "metadata": {}
        },
        {
          "output_type": "display_data",
          "data": {
            "text/plain": [
              "<IPython.core.display.Javascript object>"
            ],
            "application/javascript": [
              "download(\"download_dbe41251-613e-4279-b20f-0bfa24d1d277\", \"medium_maze_evolution_PG.gif\", 10127248)"
            ]
          },
          "metadata": {}
        }
      ]
    },
    {
      "cell_type": "code",
      "source": [
        "years = list(range(len(images)))\n",
        "imagesg = list()\n",
        "for y in years:\n",
        "    imagesg.append(imageio.imread(str(y) + \"rl_course_medium_maze_SS.png\"))\n",
        "imageio.mimsave(\"medium_maze_evolution_SS.gif\", imagesg,fps = 15)\n",
        "files.download(\"medium_maze_evolution_SS.gif\")\n"
      ],
      "metadata": {
        "colab": {
          "base_uri": "https://localhost:8080/",
          "height": 17
        },
        "id": "9W9Bt7gEvxwW",
        "outputId": "73db4809-272d-42a5-a871-8376a016c1b4"
      },
      "execution_count": null,
      "outputs": [
        {
          "output_type": "display_data",
          "data": {
            "text/plain": [
              "<IPython.core.display.Javascript object>"
            ],
            "application/javascript": [
              "\n",
              "    async function download(id, filename, size) {\n",
              "      if (!google.colab.kernel.accessAllowed) {\n",
              "        return;\n",
              "      }\n",
              "      const div = document.createElement('div');\n",
              "      const label = document.createElement('label');\n",
              "      label.textContent = `Downloading \"${filename}\": `;\n",
              "      div.appendChild(label);\n",
              "      const progress = document.createElement('progress');\n",
              "      progress.max = size;\n",
              "      div.appendChild(progress);\n",
              "      document.body.appendChild(div);\n",
              "\n",
              "      const buffers = [];\n",
              "      let downloaded = 0;\n",
              "\n",
              "      const channel = await google.colab.kernel.comms.open(id);\n",
              "      // Send a message to notify the kernel that we're ready.\n",
              "      channel.send({})\n",
              "\n",
              "      for await (const message of channel.messages) {\n",
              "        // Send a message to notify the kernel that we're ready.\n",
              "        channel.send({})\n",
              "        if (message.buffers) {\n",
              "          for (const buffer of message.buffers) {\n",
              "            buffers.push(buffer);\n",
              "            downloaded += buffer.byteLength;\n",
              "            progress.value = downloaded;\n",
              "          }\n",
              "        }\n",
              "      }\n",
              "      const blob = new Blob(buffers, {type: 'application/binary'});\n",
              "      const a = document.createElement('a');\n",
              "      a.href = window.URL.createObjectURL(blob);\n",
              "      a.download = filename;\n",
              "      div.appendChild(a);\n",
              "      a.click();\n",
              "      div.remove();\n",
              "    }\n",
              "  "
            ]
          },
          "metadata": {}
        },
        {
          "output_type": "display_data",
          "data": {
            "text/plain": [
              "<IPython.core.display.Javascript object>"
            ],
            "application/javascript": [
              "download(\"download_b938744f-0d12-402c-9f91-22b55ba5a701\", \"medium_maze_evolution_SS.gif\", 10128560)"
            ]
          },
          "metadata": {}
        }
      ]
    },
    {
      "cell_type": "markdown",
      "source": [
        "#record videos"
      ],
      "metadata": {
        "id": "ZHo_n7bwcW1k"
      }
    },
    {
      "cell_type": "code",
      "source": [
        "# Set up fake display; otherwise rendering will fail\n",
        "import os\n",
        "os.system(\"Xvfb :1 -screen 0 1024x768x24 &\")\n",
        "os.environ['DISPLAY'] = ':1'"
      ],
      "metadata": {
        "id": "3kLMxQzUcYO-"
      },
      "execution_count": null,
      "outputs": []
    },
    {
      "cell_type": "code",
      "source": [
        "import base64\n",
        "from pathlib import Path\n",
        "\n",
        "from IPython import display as ipythondisplay\n",
        "\n",
        "def show_videos(video_path='', prefix=''):\n",
        "  \"\"\"\n",
        "  Taken from https://github.com/eleurent/highway-env\n",
        "\n",
        "  :param video_path: (str) Path to the folder containing videos\n",
        "  :param prefix: (str) Filter the video, showing only the only starting with this prefix\n",
        "  \"\"\"\n",
        "  html = []\n",
        "  for mp4 in Path(video_path).glob(\"{}*.mp4\".format(prefix)):\n",
        "      video_b64 = base64.b64encode(mp4.read_bytes())\n",
        "      html.append('''<video alt=\"{}\" autoplay\n",
        "                    loop controls style=\"height: 400px;\">\n",
        "                    <source src=\"data:video/mp4;base64,{}\" type=\"video/mp4\" />\n",
        "                </video>'''.format(mp4, video_b64.decode('ascii')))\n",
        "  ipythondisplay.display(ipythondisplay.HTML(data=\"<br>\".join(html)))"
      ],
      "metadata": {
        "id": "oYXgrn02ccKy"
      },
      "execution_count": null,
      "outputs": []
    },
    {
      "cell_type": "code",
      "source": [
        "from stable_baselines3.common.vec_env import VecVideoRecorder, DummyVecEnv\n",
        "\n",
        "def record_video(env_id, model, video_length=500, prefix='', video_folder='videos/'):\n",
        "  \"\"\"\n",
        "  :param env_id: (str)\n",
        "  :param model: (RL model)\n",
        "  :param video_length: (int)\n",
        "  :param prefix: (str)\n",
        "  :param video_folder: (str)\n",
        "  \"\"\"\n",
        "  eval_env = DummyVecEnv([lambda: gym.make(env_id)])\n",
        "  # Start the video at step=0 and record 500 steps\n",
        "  eval_env = VecVideoRecorder(eval_env, video_folder=video_folder,\n",
        "                              record_video_trigger=lambda step: step == 0, video_length=video_length,\n",
        "                              name_prefix=prefix)\n",
        "\n",
        "  obs = eval_env.reset()\n",
        "  for _ in range(video_length):\n",
        "    action, _ = model.predict(obs)\n",
        "    obs, _, _, _ = eval_env.step(action)\n",
        "\n",
        "  # Close the video recorder\n",
        "  eval_env.close()"
      ],
      "metadata": {
        "id": "REyhAL1hcf0k"
      },
      "execution_count": null,
      "outputs": []
    },
    {
      "cell_type": "markdown",
      "source": [
        "#visualize"
      ],
      "metadata": {
        "id": "cA9vi5eCdMNL"
      }
    },
    {
      "cell_type": "code",
      "source": [
        "env_id = 'StupidMaze50by50_easy-v0'\n",
        "record_video(env_id, model1, video_length=500, prefix='a2c_maze')"
      ],
      "metadata": {
        "colab": {
          "base_uri": "https://localhost:8080/"
        },
        "id": "dZLyI2LWcwR-",
        "outputId": "2f391507-468a-4fb4-91a3-64b0357929f9"
      },
      "execution_count": null,
      "outputs": [
        {
          "output_type": "stream",
          "name": "stdout",
          "text": [
            "Saving video to /content/videos/a2c_maze-step-0-to-step-500.mp4\n"
          ]
        }
      ]
    },
    {
      "cell_type": "code",
      "source": [
        "show_videos('videos', prefix='a2c_maze')"
      ],
      "metadata": {
        "colab": {
          "base_uri": "https://localhost:8080/",
          "height": 422
        },
        "id": "2hMXcZmXc9Eu",
        "outputId": "b00fe382-921a-4b22-cfef-b15c3409ebfb"
      },
      "execution_count": null,
      "outputs": [
        {
          "output_type": "display_data",
          "data": {
            "text/plain": [
              "<IPython.core.display.HTML object>"
            ],
            "text/html": [
              "<video alt=\"videos/a2c_maze-step-0-to-step-500.mp4\" autoplay \n",
              "                    loop controls style=\"height: 400px;\">\n",
              "                    <source src=\"data:video/mp4;base64,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\" type=\"video/mp4\" />\n",
              "                </video>"
            ]
          },
          "metadata": {}
        }
      ]
    },
    {
      "cell_type": "code",
      "source": [
        "env_id = 'StupidMaze50by50_easy-v0'\n",
        "record_video(env_id, model2, video_length=500, prefix='ppo_maze')"
      ],
      "metadata": {
        "colab": {
          "base_uri": "https://localhost:8080/"
        },
        "id": "6YCA_KwMfVmX",
        "outputId": "35fb3986-322d-4cda-ffab-e68640165134"
      },
      "execution_count": null,
      "outputs": [
        {
          "output_type": "stream",
          "name": "stdout",
          "text": [
            "Saving video to /content/videos/ppo_maze-step-0-to-step-500.mp4\n"
          ]
        }
      ]
    },
    {
      "cell_type": "code",
      "source": [
        "show_videos('videos', prefix='ppo_maze')"
      ],
      "metadata": {
        "colab": {
          "base_uri": "https://localhost:8080/",
          "height": 422
        },
        "id": "vjk2QuYKfbPp",
        "outputId": "924a62d5-77aa-4ce2-d572-58987ad7d3ff"
      },
      "execution_count": null,
      "outputs": [
        {
          "output_type": "display_data",
          "data": {
            "text/plain": [
              "<IPython.core.display.HTML object>"
            ],
            "text/html": [
              "<video alt=\"videos/ppo_maze-step-0-to-step-500.mp4\" autoplay \n",
              "                    loop controls style=\"height: 400px;\">\n",
              "                    <source src=\"data:video/mp4;base64,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\" type=\"video/mp4\" />\n",
              "                </video>"
            ]
          },
          "metadata": {}
        }
      ]
    },
    {
      "cell_type": "code",
      "source": [
        "env_id = 'StupidMaze50by50_easy-v0'\n",
        "record_video(env_id, model3, video_length=500, prefix='dqn_maze')"
      ],
      "metadata": {
        "colab": {
          "base_uri": "https://localhost:8080/"
        },
        "id": "QNw4JbK7oWx0",
        "outputId": "1a9a6f90-84a4-4f4b-b5af-6bea494a71c0"
      },
      "execution_count": null,
      "outputs": [
        {
          "output_type": "stream",
          "name": "stdout",
          "text": [
            "Saving video to /content/videos/dqn_maze-step-0-to-step-500.mp4\n"
          ]
        }
      ]
    },
    {
      "cell_type": "code",
      "source": [
        "show_videos('videos', prefix='dqn_maze')"
      ],
      "metadata": {
        "colab": {
          "base_uri": "https://localhost:8080/",
          "height": 422
        },
        "id": "JsMd-M90ob4l",
        "outputId": "d3fba6a7-e664-4c5a-e48e-564c73524c85"
      },
      "execution_count": null,
      "outputs": [
        {
          "output_type": "display_data",
          "data": {
            "text/plain": [
              "<IPython.core.display.HTML object>"
            ],
            "text/html": [
              "<video alt=\"videos/dqn_maze-step-0-to-step-500.mp4\" autoplay \n",
              "                    loop controls style=\"height: 400px;\">\n",
              "                    <source src=\"data:video/mp4;base64,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\" type=\"video/mp4\" />\n",
              "                </video>"
            ]
          },
          "metadata": {}
        }
      ]
    },
    {
      "cell_type": "markdown",
      "source": [
        "#CMA-ES"
      ],
      "metadata": {
        "id": "s8snf8YTACxs"
      }
    },
    {
      "cell_type": "code",
      "source": [
        "!pip install cma"
      ],
      "metadata": {
        "colab": {
          "base_uri": "https://localhost:8080/"
        },
        "id": "VD5wJNIIAr-r",
        "outputId": "26a9aea7-d8fb-4283-cab5-38fe95c2b5be"
      },
      "execution_count": null,
      "outputs": [
        {
          "output_type": "stream",
          "name": "stdout",
          "text": [
            "Collecting cma\n",
            "  Downloading cma-3.2.2-py2.py3-none-any.whl (249 kB)\n",
            "\u001b[?25l\r\u001b[K     |█▎                              | 10 kB 20.7 MB/s eta 0:00:01\r\u001b[K     |██▋                             | 20 kB 9.2 MB/s eta 0:00:01\r\u001b[K     |████                            | 30 kB 7.8 MB/s eta 0:00:01\r\u001b[K     |█████▎                          | 40 kB 3.5 MB/s eta 0:00:01\r\u001b[K     |██████▋                         | 51 kB 3.5 MB/s eta 0:00:01\r\u001b[K     |████████                        | 61 kB 4.1 MB/s eta 0:00:01\r\u001b[K     |█████████▏                      | 71 kB 4.4 MB/s eta 0:00:01\r\u001b[K     |██████████▌                     | 81 kB 4.4 MB/s eta 0:00:01\r\u001b[K     |███████████▉                    | 92 kB 4.9 MB/s eta 0:00:01\r\u001b[K     |█████████████▏                  | 102 kB 4.1 MB/s eta 0:00:01\r\u001b[K     |██████████████▌                 | 112 kB 4.1 MB/s eta 0:00:01\r\u001b[K     |███████████████▉                | 122 kB 4.1 MB/s eta 0:00:01\r\u001b[K     |█████████████████               | 133 kB 4.1 MB/s eta 0:00:01\r\u001b[K     |██████████████████▍             | 143 kB 4.1 MB/s eta 0:00:01\r\u001b[K     |███████████████████▊            | 153 kB 4.1 MB/s eta 0:00:01\r\u001b[K     |█████████████████████           | 163 kB 4.1 MB/s eta 0:00:01\r\u001b[K     |██████████████████████▍         | 174 kB 4.1 MB/s eta 0:00:01\r\u001b[K     |███████████████████████▊        | 184 kB 4.1 MB/s eta 0:00:01\r\u001b[K     |█████████████████████████       | 194 kB 4.1 MB/s eta 0:00:01\r\u001b[K     |██████████████████████████▎     | 204 kB 4.1 MB/s eta 0:00:01\r\u001b[K     |███████████████████████████▋    | 215 kB 4.1 MB/s eta 0:00:01\r\u001b[K     |█████████████████████████████   | 225 kB 4.1 MB/s eta 0:00:01\r\u001b[K     |██████████████████████████████▎ | 235 kB 4.1 MB/s eta 0:00:01\r\u001b[K     |███████████████████████████████▋| 245 kB 4.1 MB/s eta 0:00:01\r\u001b[K     |████████████████████████████████| 249 kB 4.1 MB/s \n",
            "\u001b[?25hRequirement already satisfied: numpy in /usr/local/lib/python3.7/dist-packages (from cma) (1.21.6)\n",
            "Installing collected packages: cma\n",
            "Successfully installed cma-3.2.2\n"
          ]
        }
      ]
    },
    {
      "cell_type": "code",
      "source": [
        "import torch\n",
        "import torch.nn as nn\n",
        "import torch.nn.functional as F\n",
        "import torch.multiprocessing as mp\n",
        "import gym"
      ],
      "metadata": {
        "id": "rKCYtBxRAMQT"
      },
      "execution_count": null,
      "outputs": []
    },
    {
      "cell_type": "code",
      "source": [],
      "metadata": {
        "id": "ZzT9VcUgQYTm"
      },
      "execution_count": null,
      "outputs": []
    },
    {
      "cell_type": "markdown",
      "source": [
        "#old"
      ],
      "metadata": {
        "id": "eLhPcbPTQaCZ"
      }
    },
    {
      "cell_type": "code",
      "source": [
        "import gym\n",
        "import numpy as np\n",
        "import cma\n",
        "from collections import OrderedDict\n",
        "\n",
        "#from stable_baselines import A2C\n",
        "\n",
        "\n",
        "def flatten(params):\n",
        "    \"\"\"\n",
        "    :param params: (dict)\n",
        "    :return: (np.ndarray)\n",
        "    \"\"\"\n",
        "    params_ = []\n",
        "    for key in params.keys():\n",
        "        params_.append(params[key].flatten())\n",
        "    return np.concatenate(params_)\n",
        "\n",
        "def to_dict(flat_vec, params):\n",
        "    \"\"\"\n",
        "    :param flat_vec: (np.ndarray)\n",
        "    :param params: (OrderedDict)\n",
        "    :return: (OrderedDict)\n",
        "    \"\"\"\n",
        "    params_ = OrderedDict()\n",
        "    start_idx = 0\n",
        "    for key in params.keys():\n",
        "        n_elem = params[key].size\n",
        "        params_[key] = flat_vec[start_idx:start_idx + n_elem].reshape(params[key].shape)\n",
        "        start_idx += n_elem\n",
        "    return params_\n",
        "\n",
        "def filter_policy_params(params):\n",
        "    \"\"\"\n",
        "    Include only variables with \"/pi/\" (policy) or \"/shared\" (shared layers)\n",
        "    in their name: Only these ones affect the action.\n",
        "    :param params: (OrderedDict)\n",
        "    :return: (OrderedDict)\n",
        "    \"\"\"\n",
        "    return OrderedDict((key, value) for key, value in params.items()\n",
        "                        if (\"/policy/\" in key or \"/shared\" in key))\n",
        "\n",
        "\n",
        "def evaluate(env, model):\n",
        "    \"\"\"\n",
        "    Return mean fitness (negative sum of episodic rewards)\n",
        "    for given model.\n",
        "    :param env: (gym.Env)\n",
        "    :param model: (RL Model)\n",
        "    :return: (float)\n",
        "    \"\"\"\n",
        "    episode_rewards = []\n",
        "    for _ in range(10):\n",
        "        reward_sum = 0\n",
        "        done = False\n",
        "        obs = env.reset()\n",
        "        while not done:\n",
        "            action, _states = model.predict(obs)\n",
        "            obs, reward, done, info = env.step(action)\n",
        "            reward_sum += reward\n",
        "        episode_rewards.append(reward_sum)\n",
        "    return - np.mean(episode_rewards)\n",
        "\n",
        "# Create RL model with a small policy network\n",
        "model = A2C('MlpPolicy', env, ent_coef=0.0, learning_rate=0.1,\n",
        "            policy_kwargs={'net_arch': [8]}, verbose=0)\n",
        "\n",
        "#model1 = A2C('MlpPolicy', env, verbose=1).learn(10000)\n",
        "\n",
        "# Use RL actor-critic policy gradient updates to\n",
        "# find good initial parameters\n",
        "model.learn(total_timesteps=5000)\n",
        "\n",
        "# Get the parameters as the starting point for ES\n",
        "#model_params = model.get_parameters()\n",
        "\n",
        "\n",
        "model_params = dict(\n",
        "    (key, value)\n",
        "    for key, value in model.policy.state_dict().items()\n",
        "    if (\"policy\" in key or \"shared_net\" in key or \"action\" in key)\n",
        ")\n",
        "# Get only the policy parameters\n",
        "#policy_params = filter_policy_params(model_params)\n",
        "\n",
        "policy_params = model_params\n",
        "\n",
        "# Create the Evolution Strategy (ES) object\n",
        "es = cma.CMAEvolutionStrategy(flatten(policy_params), sigma0=1)\n",
        "\n"
      ],
      "metadata": {
        "id": "exMajzomQkBT"
      },
      "execution_count": null,
      "outputs": []
    },
    {
      "cell_type": "code",
      "source": [
        "for iteration in range(10):\n",
        "    # Create population of candidates and evaluate them\n",
        "    candidates, fitnesses = es.ask(), []\n",
        "    for candidate in candidates:\n",
        "        # Load new policy parameters to agent.\n",
        "        #model.policy.load_state_dict(candidate, strict=False)\n",
        "        model_params = dict(\n",
        "                    (key, value)\n",
        "                    for key, value in model.policy.state_dict().items()\n",
        "                    if (\"policy\" in key or \"shared_net\" in key or \"action\" in key)\n",
        "                    )\n",
        "        model.load_parameters(to_dict(candidate, policy_params), exact_match=False)\n",
        "        # Evaluate the agent using stable-baselines predict function\n",
        "        fitnesses.append(evaluate(model.get_env(), model))\n",
        "    # CMA-ES update\n",
        "    es.tell(candidates, fitnesses)\n",
        "    # Display some training infos\n",
        "    mean_fitness = np.mean(sorted(fitnesses)[:int(0.1 * len(candidates))])\n",
        "    print(\"Iteration {:<3} Mean top 10% reward: {:.2f}\".format(iteration, -mean_fitness))"
      ],
      "metadata": {
        "colab": {
          "base_uri": "https://localhost:8080/",
          "height": 415
        },
        "id": "fi4exnKgSymi",
        "outputId": "1f50a9b8-568a-4f6d-dcca-912f5e49ec53"
      },
      "execution_count": null,
      "outputs": [
        {
          "output_type": "stream",
          "name": "stderr",
          "text": [
            "/usr/local/lib/python3.7/dist-packages/torch/nn/modules/module.py:1429: FutureWarning: elementwise comparison failed; returning scalar instead, but in the future will perform elementwise comparison\n",
            "  elif strict and (extra_state_key in state_dict):\n"
          ]
        },
        {
          "output_type": "error",
          "ename": "AttributeError",
          "evalue": "ignored",
          "traceback": [
            "\u001b[0;31m---------------------------------------------------------------------------\u001b[0m",
            "\u001b[0;31mAttributeError\u001b[0m                            Traceback (most recent call last)",
            "\u001b[0;32m<ipython-input-112-d0c378277d79>\u001b[0m in \u001b[0;36m<module>\u001b[0;34m()\u001b[0m\n\u001b[1;32m      4\u001b[0m     \u001b[0;32mfor\u001b[0m \u001b[0mcandidate\u001b[0m \u001b[0;32min\u001b[0m \u001b[0mcandidates\u001b[0m\u001b[0;34m:\u001b[0m\u001b[0;34m\u001b[0m\u001b[0;34m\u001b[0m\u001b[0m\n\u001b[1;32m      5\u001b[0m         \u001b[0;31m# Load new policy parameters to agent.\u001b[0m\u001b[0;34m\u001b[0m\u001b[0;34m\u001b[0m\u001b[0;34m\u001b[0m\u001b[0m\n\u001b[0;32m----> 6\u001b[0;31m         \u001b[0mmodel\u001b[0m\u001b[0;34m.\u001b[0m\u001b[0mpolicy\u001b[0m\u001b[0;34m.\u001b[0m\u001b[0mload_state_dict\u001b[0m\u001b[0;34m(\u001b[0m\u001b[0mcandidate\u001b[0m\u001b[0;34m,\u001b[0m \u001b[0mstrict\u001b[0m\u001b[0;34m=\u001b[0m\u001b[0;32mFalse\u001b[0m\u001b[0;34m)\u001b[0m\u001b[0;34m\u001b[0m\u001b[0;34m\u001b[0m\u001b[0m\n\u001b[0m\u001b[1;32m      7\u001b[0m         \u001b[0;31m#model.load_parameters(to_dict(candidate, policy_params), exact_match=False)\u001b[0m\u001b[0;34m\u001b[0m\u001b[0;34m\u001b[0m\u001b[0;34m\u001b[0m\u001b[0m\n\u001b[1;32m      8\u001b[0m         \u001b[0;31m# Evaluate the agent using stable-baselines predict function\u001b[0m\u001b[0;34m\u001b[0m\u001b[0;34m\u001b[0m\u001b[0;34m\u001b[0m\u001b[0m\n",
            "\u001b[0;32m/usr/local/lib/python3.7/dist-packages/torch/nn/modules/module.py\u001b[0m in \u001b[0;36mload_state_dict\u001b[0;34m(self, state_dict, strict)\u001b[0m\n\u001b[1;32m   1481\u001b[0m                     \u001b[0mload\u001b[0m\u001b[0;34m(\u001b[0m\u001b[0mchild\u001b[0m\u001b[0;34m,\u001b[0m \u001b[0mprefix\u001b[0m \u001b[0;34m+\u001b[0m \u001b[0mname\u001b[0m \u001b[0;34m+\u001b[0m \u001b[0;34m'.'\u001b[0m\u001b[0;34m)\u001b[0m\u001b[0;34m\u001b[0m\u001b[0;34m\u001b[0m\u001b[0m\n\u001b[1;32m   1482\u001b[0m \u001b[0;34m\u001b[0m\u001b[0m\n\u001b[0;32m-> 1483\u001b[0;31m         \u001b[0mload\u001b[0m\u001b[0;34m(\u001b[0m\u001b[0mself\u001b[0m\u001b[0;34m)\u001b[0m\u001b[0;34m\u001b[0m\u001b[0;34m\u001b[0m\u001b[0m\n\u001b[0m\u001b[1;32m   1484\u001b[0m         \u001b[0;32mdel\u001b[0m \u001b[0mload\u001b[0m\u001b[0;34m\u001b[0m\u001b[0;34m\u001b[0m\u001b[0m\n\u001b[1;32m   1485\u001b[0m \u001b[0;34m\u001b[0m\u001b[0m\n",
            "\u001b[0;32m/usr/local/lib/python3.7/dist-packages/torch/nn/modules/module.py\u001b[0m in \u001b[0;36mload\u001b[0;34m(module, prefix)\u001b[0m\n\u001b[1;32m   1476\u001b[0m             \u001b[0mlocal_metadata\u001b[0m \u001b[0;34m=\u001b[0m \u001b[0;34m{\u001b[0m\u001b[0;34m}\u001b[0m \u001b[0;32mif\u001b[0m \u001b[0mmetadata\u001b[0m \u001b[0;32mis\u001b[0m \u001b[0;32mNone\u001b[0m \u001b[0;32melse\u001b[0m \u001b[0mmetadata\u001b[0m\u001b[0;34m.\u001b[0m\u001b[0mget\u001b[0m\u001b[0;34m(\u001b[0m\u001b[0mprefix\u001b[0m\u001b[0;34m[\u001b[0m\u001b[0;34m:\u001b[0m\u001b[0;34m-\u001b[0m\u001b[0;36m1\u001b[0m\u001b[0;34m]\u001b[0m\u001b[0;34m,\u001b[0m \u001b[0;34m{\u001b[0m\u001b[0;34m}\u001b[0m\u001b[0;34m)\u001b[0m\u001b[0;34m\u001b[0m\u001b[0;34m\u001b[0m\u001b[0m\n\u001b[1;32m   1477\u001b[0m             module._load_from_state_dict(\n\u001b[0;32m-> 1478\u001b[0;31m                 state_dict, prefix, local_metadata, True, missing_keys, unexpected_keys, error_msgs)\n\u001b[0m\u001b[1;32m   1479\u001b[0m             \u001b[0;32mfor\u001b[0m \u001b[0mname\u001b[0m\u001b[0;34m,\u001b[0m \u001b[0mchild\u001b[0m \u001b[0;32min\u001b[0m \u001b[0mmodule\u001b[0m\u001b[0;34m.\u001b[0m\u001b[0m_modules\u001b[0m\u001b[0;34m.\u001b[0m\u001b[0mitems\u001b[0m\u001b[0;34m(\u001b[0m\u001b[0;34m)\u001b[0m\u001b[0;34m:\u001b[0m\u001b[0;34m\u001b[0m\u001b[0;34m\u001b[0m\u001b[0m\n\u001b[1;32m   1480\u001b[0m                 \u001b[0;32mif\u001b[0m \u001b[0mchild\u001b[0m \u001b[0;32mis\u001b[0m \u001b[0;32mnot\u001b[0m \u001b[0;32mNone\u001b[0m\u001b[0;34m:\u001b[0m\u001b[0;34m\u001b[0m\u001b[0;34m\u001b[0m\u001b[0m\n",
            "\u001b[0;32m/usr/local/lib/python3.7/dist-packages/torch/nn/modules/module.py\u001b[0m in \u001b[0;36m_load_from_state_dict\u001b[0;34m(self, state_dict, prefix, local_metadata, strict, missing_keys, unexpected_keys, error_msgs)\u001b[0m\n\u001b[1;32m   1431\u001b[0m \u001b[0;34m\u001b[0m\u001b[0m\n\u001b[1;32m   1432\u001b[0m         \u001b[0;32mif\u001b[0m \u001b[0mstrict\u001b[0m\u001b[0;34m:\u001b[0m\u001b[0;34m\u001b[0m\u001b[0;34m\u001b[0m\u001b[0m\n\u001b[0;32m-> 1433\u001b[0;31m             \u001b[0;32mfor\u001b[0m \u001b[0mkey\u001b[0m \u001b[0;32min\u001b[0m \u001b[0mstate_dict\u001b[0m\u001b[0;34m.\u001b[0m\u001b[0mkeys\u001b[0m\u001b[0;34m(\u001b[0m\u001b[0;34m)\u001b[0m\u001b[0;34m:\u001b[0m\u001b[0;34m\u001b[0m\u001b[0;34m\u001b[0m\u001b[0m\n\u001b[0m\u001b[1;32m   1434\u001b[0m                 \u001b[0;32mif\u001b[0m \u001b[0mkey\u001b[0m\u001b[0;34m.\u001b[0m\u001b[0mstartswith\u001b[0m\u001b[0;34m(\u001b[0m\u001b[0mprefix\u001b[0m\u001b[0;34m)\u001b[0m \u001b[0;32mand\u001b[0m \u001b[0mkey\u001b[0m \u001b[0;34m!=\u001b[0m \u001b[0mextra_state_key\u001b[0m\u001b[0;34m:\u001b[0m\u001b[0;34m\u001b[0m\u001b[0;34m\u001b[0m\u001b[0m\n\u001b[1;32m   1435\u001b[0m                     \u001b[0minput_name\u001b[0m \u001b[0;34m=\u001b[0m \u001b[0mkey\u001b[0m\u001b[0;34m[\u001b[0m\u001b[0mlen\u001b[0m\u001b[0;34m(\u001b[0m\u001b[0mprefix\u001b[0m\u001b[0;34m)\u001b[0m\u001b[0;34m:\u001b[0m\u001b[0;34m]\u001b[0m\u001b[0;34m\u001b[0m\u001b[0;34m\u001b[0m\u001b[0m\n",
            "\u001b[0;31mAttributeError\u001b[0m: 'numpy.ndarray' object has no attribute 'keys'"
          ]
        }
      ]
    },
    {
      "cell_type": "code",
      "source": [
        "model = A2C('MlpPolicy', env, ent_coef=0.0, learning_rate=0.1,\n",
        "            policy_kwargs={'net_arch': [8]}, verbose=0)\n",
        "\n",
        "#model1 = A2C('MlpPolicy', env, verbose=1).learn(10000)\n",
        "\n",
        "# Use RL actor-critic policy gradient updates to\n",
        "# find good initial parameters\n",
        "model.learn(total_timesteps=5000)\n",
        "\n",
        "# Get the parameters as the starting point for ES\n",
        "model_params = model.get_parameters()\n",
        "\n",
        "# Get only the policy parameters\n",
        "policy_params = filter_policy_params(model_params)\n"
      ],
      "metadata": {
        "id": "pLvoPVL_RA2Y"
      },
      "execution_count": null,
      "outputs": []
    },
    {
      "cell_type": "code",
      "source": [
        "class NeuralNetwork(nn.Module):\n",
        "\n",
        "    def __init__(self, input_shape, n_actions):\n",
        "        super(NeuralNetwork, self).__init__()\n",
        "        self.l1 = nn.Linear(input_shape, 32)\n",
        "        self.l2 = nn.Linear(32, 32)\n",
        "        self.lout = nn.Linear(32, n_actions)\n",
        "\n",
        "    def forward(self, x):\n",
        "        x = F.relu(self.l1(x.float()))\n",
        "        x = F.relu(self.l2(x))\n",
        "        return self.lout(x)\n",
        "\n",
        "    def get_params(self):\n",
        "        p = np.empty((0,))\n",
        "        for n in self.parameters():\n",
        "            p = np.append(p, n.flatten().cpu().detach().numpy())\n",
        "        return p\n",
        "\n",
        "    def set_params(self, x):\n",
        "        start = 0\n",
        "        for p in self.parameters():\n",
        "            e = start + np.prod(p.shape)\n",
        "            p.data = torch.FloatTensor(x[start:e]).reshape(p.shape)\n",
        "            start = e"
      ],
      "metadata": {
        "id": "SlRAFZlYAOjl"
      },
      "execution_count": null,
      "outputs": []
    },
    {
      "cell_type": "code",
      "source": [
        "def evaluate(ann, env, visul=True):\n",
        "    env.seed(0) # deterministic for demonstration\n",
        "    obs = env.reset()\n",
        "    if visul:\n",
        "        img = plt.imshow(env.render(mode='rgb_array'))\n",
        "    total_reward = 0\n",
        "    while True:\n",
        "        # Output of the neural net\n",
        "        net_output = ann(torch.tensor(obs))\n",
        "        # the action is the value clipped returned by the nn\n",
        "        action = net_output.data.cpu().numpy().argmax()\n",
        "        obs, reward, done, _ = env.step(action)\n",
        "        total_reward += reward\n",
        "        if visul:\n",
        "            img.set_data(env.render(mode='rgb_array'))\n",
        "            plt.axis('off')\n",
        "            display.display(plt.gcf())\n",
        "            display.clear_output(wait=True)\n",
        "        if done:\n",
        "            break\n",
        "    return total_reward"
      ],
      "metadata": {
        "id": "0jcOg1elATnO"
      },
      "execution_count": null,
      "outputs": []
    },
    {
      "cell_type": "code",
      "source": [
        "def fitness(x, ann, env, visul=False):\n",
        "    ann.set_params(x)\n",
        "    return -evaluate(ann, env, visul=visul)"
      ],
      "metadata": {
        "id": "db7BrCEvAe_c"
      },
      "execution_count": null,
      "outputs": []
    },
    {
      "cell_type": "code",
      "source": [
        "ann = NeuralNetwork(env.observation_space.shape[0], env.action_space.n)"
      ],
      "metadata": {
        "id": "cjgBcu6gKPc4"
      },
      "execution_count": null,
      "outputs": []
    },
    {
      "cell_type": "code",
      "source": [
        "mean_params = dict(\n",
        "    (key, value)\n",
        "    for key, value in model.policy.state_dict().items()\n",
        "    if (\"policy\" in key or \"shared_net\" in key or \"action\" in key)\n",
        ")"
      ],
      "metadata": {
        "id": "oDe5UfrjMxAl"
      },
      "execution_count": null,
      "outputs": []
    },
    {
      "cell_type": "code",
      "source": [
        "net_output.shape"
      ],
      "metadata": {
        "colab": {
          "base_uri": "https://localhost:8080/"
        },
        "id": "FAws6plIKU_9",
        "outputId": "1a16102e-06a0-4dfb-e09b-5cb08732545b"
      },
      "execution_count": null,
      "outputs": [
        {
          "output_type": "execute_result",
          "data": {
            "text/plain": [
              "torch.Size([51, 4])"
            ]
          },
          "metadata": {},
          "execution_count": 95
        }
      ]
    },
    {
      "cell_type": "code",
      "source": [
        "action = net_output.data.cpu().numpy().argmax()"
      ],
      "metadata": {
        "id": "Qjpm78hYKbt4"
      },
      "execution_count": null,
      "outputs": []
    },
    {
      "cell_type": "code",
      "source": [
        "action"
      ],
      "metadata": {
        "id": "UIOyp0RmKdXq"
      },
      "execution_count": null,
      "outputs": []
    },
    {
      "cell_type": "code",
      "source": [
        "env.observation_space"
      ],
      "metadata": {
        "id": "ZBSy3_fRB8B1"
      },
      "execution_count": null,
      "outputs": []
    },
    {
      "cell_type": "code",
      "source": [
        "!pip3 install box2d-py"
      ],
      "metadata": {
        "id": "LvG9iIp9E5ho"
      },
      "execution_count": null,
      "outputs": []
    },
    {
      "cell_type": "code",
      "source": [
        "import gym\n",
        "env = gym.make(env_id)\n",
        "ann = NeuralNetwork(env.observation_space.shape[0], env.action_space.n)"
      ],
      "metadata": {
        "id": "njHblGsiD-As"
      },
      "execution_count": null,
      "outputs": []
    },
    {
      "cell_type": "code",
      "source": [
        "import cma\n",
        "ann = NeuralNetwork(env.observation_space.shape[0], env.action_space.n)\n",
        "es = cma.CMAEvolutionStrategy(len(ann.get_params()) * [0], 0.1, {'seed': 123})"
      ],
      "metadata": {
        "colab": {
          "base_uri": "https://localhost:8080/"
        },
        "id": "Ku-2GHWLA8sB",
        "outputId": "c2c37238-e550-4215-f2b6-72135c85ad2c"
      },
      "execution_count": null,
      "outputs": [
        {
          "output_type": "stream",
          "name": "stdout",
          "text": [
            "(13_w,27)-aCMA-ES (mu_w=7.8,w_1=22%) in dimension 2852 (seed=123, Mon May 23 13:33:06 2022)\n"
          ]
        }
      ]
    },
    {
      "cell_type": "code",
      "source": [
        "p = ann.get_params()\n",
        "np.shape(p)"
      ],
      "metadata": {
        "colab": {
          "base_uri": "https://localhost:8080/"
        },
        "id": "G_3mYLfVIYaE",
        "outputId": "2e114d6d-8550-4c09-e13a-d22832b19b7c"
      },
      "execution_count": null,
      "outputs": [
        {
          "output_type": "execute_result",
          "data": {
            "text/plain": [
              "(2852,)"
            ]
          },
          "metadata": {},
          "execution_count": 80
        }
      ]
    },
    {
      "cell_type": "code",
      "source": [
        "p"
      ],
      "metadata": {
        "id": "4yFEipwDM4AF"
      },
      "execution_count": null,
      "outputs": []
    },
    {
      "cell_type": "code",
      "source": [
        "env.motions"
      ],
      "metadata": {
        "colab": {
          "base_uri": "https://localhost:8080/"
        },
        "id": "DoDeVVURJg19",
        "outputId": "5b0b5365-98bc-4732-e333-ae4169190342"
      },
      "execution_count": null,
      "outputs": [
        {
          "output_type": "execute_result",
          "data": {
            "text/plain": [
              "VonNeumannMotion(north=[-1, 0], south=[1, 0], west=[0, -1], east=[0, 1])"
            ]
          },
          "metadata": {},
          "execution_count": 86
        }
      ]
    },
    {
      "cell_type": "code",
      "source": [
        "len(env.motions)"
      ],
      "metadata": {
        "id": "I374kr2cJpto"
      },
      "execution_count": null,
      "outputs": []
    },
    {
      "cell_type": "code",
      "source": [
        "fitness(x, ann, env, visul=False)"
      ],
      "metadata": {
        "id": "9fZ2y4-xIc-T"
      },
      "execution_count": null,
      "outputs": []
    },
    {
      "cell_type": "code",
      "source": [
        "evaluate(ann, env, visul=False)"
      ],
      "metadata": {
        "id": "jE6yZgrfDfS7"
      },
      "execution_count": null,
      "outputs": []
    },
    {
      "cell_type": "code",
      "source": [
        "env.observation_space"
      ],
      "metadata": {
        "id": "BmZP4RJaFwhM"
      },
      "execution_count": null,
      "outputs": []
    },
    {
      "cell_type": "code",
      "source": [
        "mean_params = model1.get_parameters()"
      ],
      "metadata": {
        "id": "V3Nbl2TeNAXI"
      },
      "execution_count": null,
      "outputs": []
    },
    {
      "cell_type": "code",
      "source": [
        "mean_params = dict((key, value) for key, value in mean_params.items()\n",
        "                   if (\"/pi/\" in key or \"/shared\" in key))"
      ],
      "metadata": {
        "id": "xnRgVH3AOYrA"
      },
      "execution_count": null,
      "outputs": []
    },
    {
      "cell_type": "code",
      "source": [
        "y = np.random.randn(len(ann.get_params()))"
      ],
      "metadata": {
        "id": "Q72OxL_eBje4"
      },
      "execution_count": null,
      "outputs": []
    },
    {
      "cell_type": "code",
      "source": [
        "for i in range(20):\n",
        "    solutions = np.array(es.ask())\n",
        "    fits = [fitness(y, ann, env) for y in solutions]\n",
        "    es.tell(solutions, fits)\n",
        "    es.disp()"
      ],
      "metadata": {
        "id": "QL-4oTVBBA1e"
      },
      "execution_count": null,
      "outputs": []
    }
  ]
}